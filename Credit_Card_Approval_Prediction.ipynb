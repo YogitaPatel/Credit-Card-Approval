{
  "nbformat": 4,
  "nbformat_minor": 0,
  "metadata": {
    "colab": {
      "name": "Credit_Card_Approval_Prediction.ipynb",
      "provenance": [],
      "collapsed_sections": [],
      "authorship_tag": "ABX9TyMNirZS5bRYl8QNCVnCsmgi",
      "include_colab_link": true
    },
    "kernelspec": {
      "name": "python3",
      "display_name": "Python 3"
    },
    "language_info": {
      "name": "python"
    }
  },
  "cells": [
    {
      "cell_type": "markdown",
      "metadata": {
        "id": "view-in-github",
        "colab_type": "text"
      },
      "source": [
        "<a href=\"https://colab.research.google.com/github/YogitaPatel/Credit-Card-Approval/blob/main/Credit_Card_Approval_Prediction.ipynb\" target=\"_parent\"><img src=\"https://colab.research.google.com/assets/colab-badge.svg\" alt=\"Open In Colab\"/></a>"
      ]
    },
    {
      "cell_type": "markdown",
      "source": [
        "# Credit Card Approval Prediction"
      ],
      "metadata": {
        "id": "oqnQJMI24n7w"
      }
    },
    {
      "cell_type": "markdown",
      "source": [
        "#Initializing\n"
      ],
      "metadata": {
        "id": "rG3tNx1n1I8W"
      }
    },
    {
      "cell_type": "code",
      "execution_count": null,
      "metadata": {
        "id": "v_F_riT83Gke"
      },
      "outputs": [],
      "source": [
        "!apt-get update > /dev/null\n",
        "!apt-get install openjdk-8-jdk-headless -qq > /dev/null\n",
        "#!wget -q http://apache.osuosl.org/spark/spark-2.4.5/spark-2.4.5-bin-hadoop2.7.tgz\n",
        "!wget -q http://apache.osuosl.org/spark/spark-3.1.2/spark-3.1.2-bin-hadoop3.2.tgz\n",
        "# If the current version of Spark is not used, there may be errors.\n",
        "# Check here for current versions http://apache.osuosl.org/spark\n",
        "#!tar xf spark-2.4.5-bin-hadoop2.7.tgz\n",
        "!tar xf spark-3.1.2-bin-hadoop3.2.tgz\n",
        "#!pip install -q findspark\n",
        "!pip install -q pyspark"
      ]
    },
    {
      "cell_type": "code",
      "source": [
        "import os\n",
        "os.environ[\"JAVA_HOME\"] = \"/usr/lib/jvm/java-8-openjdk-amd64\"\n",
        "os.environ[\"SPARK_HOME\"] = \"/content/spark-2.4.5-bin-hadoop2.7\"\n",
        "os.environ[\"SPARK_HOME\"] = \"/content/spark-3.1.2-bin-hadoop3.2\""
      ],
      "metadata": {
        "id": "t4x8GmGq86kW"
      },
      "execution_count": null,
      "outputs": []
    },
    {
      "cell_type": "code",
      "source": [
        "#import findspark\n",
        "#findspark.init()\n",
        "from pyspark.sql import SparkSession\n",
        "spark = SparkSession.builder.master(\"local[*]\").getOrCreate()\n",
        "sc = spark.sparkContext\n",
        "sc"
      ],
      "metadata": {
        "colab": {
          "base_uri": "https://localhost:8080/",
          "height": 197
        },
        "id": "zcFhUn2n98Sk",
        "outputId": "64cf5587-a806-44bf-b4fb-7d944dfa3e88"
      },
      "execution_count": null,
      "outputs": [
        {
          "output_type": "execute_result",
          "data": {
            "text/html": [
              "\n",
              "        <div>\n",
              "            <p><b>SparkContext</b></p>\n",
              "\n",
              "            <p><a href=\"http://2470dd8bd4e3:4040\">Spark UI</a></p>\n",
              "\n",
              "            <dl>\n",
              "              <dt>Version</dt>\n",
              "                <dd><code>v3.1.2</code></dd>\n",
              "              <dt>Master</dt>\n",
              "                <dd><code>local[*]</code></dd>\n",
              "              <dt>AppName</dt>\n",
              "                <dd><code>pyspark-shell</code></dd>\n",
              "            </dl>\n",
              "        </div>\n",
              "        "
            ],
            "text/plain": [
              "<SparkContext master=local[*] appName=pyspark-shell>"
            ]
          },
          "metadata": {},
          "execution_count": 232
        }
      ]
    },
    {
      "cell_type": "code",
      "source": [
        "from pyspark.sql import SQLContext\n",
        "sqlContext = SQLContext(sc)"
      ],
      "metadata": {
        "id": "nUwmXC1VFJfy"
      },
      "execution_count": null,
      "outputs": []
    },
    {
      "cell_type": "code",
      "source": [
        "import pandas as pd\n",
        "import numpy as np\n",
        "import matplotlib.pyplot as plt\n",
        "import seaborn as sns\n",
        "import warnings\n",
        "warnings.filterwarnings('ignore')\n",
        "%matplotlib inline"
      ],
      "metadata": {
        "id": "vvAUF2ax-XmF"
      },
      "execution_count": null,
      "outputs": []
    },
    {
      "cell_type": "markdown",
      "source": [
        "# Importing and downloading the Datasets from GoogleDrive"
      ],
      "metadata": {
        "id": "dKZvqUEH-pmZ"
      }
    },
    {
      "cell_type": "code",
      "source": [
        "!gdown 'https://drive.google.com/uc?id=1yWSB7RXFgmx_fvB1hAmH60eHV9B339qb'\n",
        "!gdown 'https://drive.google.com/uc?id=1vBecmHCEnSudbo_hCfbm7qTDgaPT94WK'"
      ],
      "metadata": {
        "colab": {
          "base_uri": "https://localhost:8080/"
        },
        "id": "z5y80gk6rzyQ",
        "outputId": "f0667ad9-ed9f-43b8-e52a-c3348ad89641"
      },
      "execution_count": null,
      "outputs": [
        {
          "output_type": "stream",
          "name": "stdout",
          "text": [
            "Downloading...\n",
            "From: https://drive.google.com/uc?id=1yWSB7RXFgmx_fvB1hAmH60eHV9B339qb\n",
            "To: /content/application_record.csv\n",
            "100% 54.3M/54.3M [00:01<00:00, 33.4MB/s]\n",
            "Downloading...\n",
            "From: https://drive.google.com/uc?id=1vBecmHCEnSudbo_hCfbm7qTDgaPT94WK\n",
            "To: /content/credit_record.csv\n",
            "100% 15.4M/15.4M [00:00<00:00, 29.6MB/s]\n"
          ]
        }
      ]
    },
    {
      "cell_type": "code",
      "source": [
        "#Creating RDD\n",
        "\n",
        "RDD_application = sc.textFile('application_record.csv')\n",
        "\n",
        "#Value counting\n",
        "RDD_application.count()"
      ],
      "metadata": {
        "colab": {
          "base_uri": "https://localhost:8080/"
        },
        "id": "Y2x8lPs9HPlm",
        "outputId": "0477b854-6607-4030-f743-a131b4dcc98c"
      },
      "execution_count": 298,
      "outputs": [
        {
          "output_type": "execute_result",
          "data": {
            "text/plain": [
              "438558"
            ]
          },
          "metadata": {},
          "execution_count": 298
        }
      ]
    },
    {
      "cell_type": "code",
      "source": [
        "#Displaying first 5 instances\n",
        "RDD_application.take(5)"
      ],
      "metadata": {
        "colab": {
          "base_uri": "https://localhost:8080/"
        },
        "id": "3_V4XgBOx-_A",
        "outputId": "c7b56de8-106c-4b8f-8ba1-a06081ee5001"
      },
      "execution_count": 288,
      "outputs": [
        {
          "output_type": "execute_result",
          "data": {
            "text/plain": [
              "['ID,CODE_GENDER,FLAG_OWN_CAR,FLAG_OWN_REALTY,CNT_CHILDREN,AMT_INCOME_TOTAL,NAME_INCOME_TYPE,NAME_EDUCATION_TYPE,NAME_FAMILY_STATUS,NAME_HOUSING_TYPE,DAYS_BIRTH,DAYS_EMPLOYED,FLAG_MOBIL,FLAG_WORK_PHONE,FLAG_PHONE,FLAG_EMAIL,OCCUPATION_TYPE,CNT_FAM_MEMBERS',\n",
              " '5008804,M,Y,Y,0,427500.0,Working,Higher education,Civil marriage,Rented apartment,-12005,-4542,1,1,0,0,,2.0',\n",
              " '5008805,M,Y,Y,0,427500.0,Working,Higher education,Civil marriage,Rented apartment,-12005,-4542,1,1,0,0,,2.0',\n",
              " '5008806,M,Y,Y,0,112500.0,Working,Secondary / secondary special,Married,House / apartment,-21474,-1134,1,0,0,0,Security staff,2.0',\n",
              " '5008808,F,N,Y,0,270000.0,Commercial associate,Secondary / secondary special,Single / not married,House / apartment,-19110,-3051,1,0,1,1,Sales staff,1.0']"
            ]
          },
          "metadata": {},
          "execution_count": 288
        }
      ]
    },
    {
      "cell_type": "code",
      "source": [
        "RDD_credit = sc.textFile('credit_record.csv')\n"
      ],
      "metadata": {
        "id": "q3ZEZilfOU21"
      },
      "execution_count": 289,
      "outputs": []
    },
    {
      "cell_type": "code",
      "source": [
        "RDD_credit.take(10)"
      ],
      "metadata": {
        "colab": {
          "base_uri": "https://localhost:8080/"
        },
        "id": "aMWzxJgNx6Pa",
        "outputId": "95df1d92-e50e-4691-c4f2-edb96d008da3"
      },
      "execution_count": 290,
      "outputs": [
        {
          "output_type": "execute_result",
          "data": {
            "text/plain": [
              "['ID,MONTHS_BALANCE,STATUS',\n",
              " '5001711,0,X',\n",
              " '5001711,-1,0',\n",
              " '5001711,-2,0',\n",
              " '5001711,-3,0',\n",
              " '5001712,0,C',\n",
              " '5001712,-1,C',\n",
              " '5001712,-2,C',\n",
              " '5001712,-3,C',\n",
              " '5001712,-4,C']"
            ]
          },
          "metadata": {},
          "execution_count": 290
        }
      ]
    },
    {
      "cell_type": "code",
      "source": [
        "# Map the RDD to a DF\n",
        "df_application = spark.read.format(\"csv\").option(\"header\", \"true\").option(\"inferSchema\", \"true\").load('application_record.csv')\n",
        "df_credit = spark.read.format(\"csv\").option(\"header\", \"true\").option(\"inferSchema\", \"true\").load('credit_record.csv')\n",
        "df_application.cache()\n",
        "df_application.printSchema()"
      ],
      "metadata": {
        "colab": {
          "base_uri": "https://localhost:8080/"
        },
        "id": "2Jc1_yZkyfGf",
        "outputId": "22e04f2f-1878-4608-f7e5-0945bea80aff"
      },
      "execution_count": 291,
      "outputs": [
        {
          "output_type": "stream",
          "name": "stdout",
          "text": [
            "root\n",
            " |-- ID: integer (nullable = true)\n",
            " |-- CODE_GENDER: string (nullable = true)\n",
            " |-- FLAG_OWN_CAR: string (nullable = true)\n",
            " |-- FLAG_OWN_REALTY: string (nullable = true)\n",
            " |-- CNT_CHILDREN: integer (nullable = true)\n",
            " |-- AMT_INCOME_TOTAL: double (nullable = true)\n",
            " |-- NAME_INCOME_TYPE: string (nullable = true)\n",
            " |-- NAME_EDUCATION_TYPE: string (nullable = true)\n",
            " |-- NAME_FAMILY_STATUS: string (nullable = true)\n",
            " |-- NAME_HOUSING_TYPE: string (nullable = true)\n",
            " |-- DAYS_BIRTH: integer (nullable = true)\n",
            " |-- DAYS_EMPLOYED: integer (nullable = true)\n",
            " |-- FLAG_MOBIL: integer (nullable = true)\n",
            " |-- FLAG_WORK_PHONE: integer (nullable = true)\n",
            " |-- FLAG_PHONE: integer (nullable = true)\n",
            " |-- FLAG_EMAIL: integer (nullable = true)\n",
            " |-- OCCUPATION_TYPE: string (nullable = true)\n",
            " |-- CNT_FAM_MEMBERS: double (nullable = true)\n",
            "\n"
          ]
        }
      ]
    },
    {
      "cell_type": "code",
      "source": [
        "df_credit.printSchema()"
      ],
      "metadata": {
        "colab": {
          "base_uri": "https://localhost:8080/"
        },
        "id": "QY2suGcGkjPi",
        "outputId": "590e693b-cae5-40b4-e976-430d480e7209"
      },
      "execution_count": 293,
      "outputs": [
        {
          "output_type": "stream",
          "name": "stdout",
          "text": [
            "root\n",
            " |-- ID: integer (nullable = true)\n",
            " |-- MONTHS_BALANCE: integer (nullable = true)\n",
            " |-- STATUS: string (nullable = true)\n",
            "\n"
          ]
        }
      ]
    },
    {
      "cell_type": "code",
      "source": [
        "df_application.show()"
      ],
      "metadata": {
        "colab": {
          "base_uri": "https://localhost:8080/"
        },
        "id": "A08ofuIlLjMS",
        "outputId": "5834fe11-82ad-470b-e65e-56b7bfea5fa7"
      },
      "execution_count": null,
      "outputs": [
        {
          "output_type": "stream",
          "name": "stdout",
          "text": [
            "+-------+-----------+------------+---------------+------------+----------------+--------------------+--------------------+--------------------+-----------------+----------+-------------+----------+---------------+----------+----------+---------------+---------------+\n",
            "|     ID|CODE_GENDER|FLAG_OWN_CAR|FLAG_OWN_REALTY|CNT_CHILDREN|AMT_INCOME_TOTAL|    NAME_INCOME_TYPE| NAME_EDUCATION_TYPE|  NAME_FAMILY_STATUS|NAME_HOUSING_TYPE|DAYS_BIRTH|DAYS_EMPLOYED|FLAG_MOBIL|FLAG_WORK_PHONE|FLAG_PHONE|FLAG_EMAIL|OCCUPATION_TYPE|CNT_FAM_MEMBERS|\n",
            "+-------+-----------+------------+---------------+------------+----------------+--------------------+--------------------+--------------------+-----------------+----------+-------------+----------+---------------+----------+----------+---------------+---------------+\n",
            "|5008804|          M|           Y|              Y|           0|        427500.0|             Working|    Higher education|      Civil marriage| Rented apartment|    -12005|        -4542|         1|              1|         0|         0|           null|            2.0|\n",
            "|5008805|          M|           Y|              Y|           0|        427500.0|             Working|    Higher education|      Civil marriage| Rented apartment|    -12005|        -4542|         1|              1|         0|         0|           null|            2.0|\n",
            "|5008806|          M|           Y|              Y|           0|        112500.0|             Working|Secondary / secon...|             Married|House / apartment|    -21474|        -1134|         1|              0|         0|         0| Security staff|            2.0|\n",
            "|5008808|          F|           N|              Y|           0|        270000.0|Commercial associate|Secondary / secon...|Single / not married|House / apartment|    -19110|        -3051|         1|              0|         1|         1|    Sales staff|            1.0|\n",
            "|5008809|          F|           N|              Y|           0|        270000.0|Commercial associate|Secondary / secon...|Single / not married|House / apartment|    -19110|        -3051|         1|              0|         1|         1|    Sales staff|            1.0|\n",
            "|5008810|          F|           N|              Y|           0|        270000.0|Commercial associate|Secondary / secon...|Single / not married|House / apartment|    -19110|        -3051|         1|              0|         1|         1|    Sales staff|            1.0|\n",
            "|5008811|          F|           N|              Y|           0|        270000.0|Commercial associate|Secondary / secon...|Single / not married|House / apartment|    -19110|        -3051|         1|              0|         1|         1|    Sales staff|            1.0|\n",
            "|5008812|          F|           N|              Y|           0|        283500.0|           Pensioner|    Higher education|           Separated|House / apartment|    -22464|       365243|         1|              0|         0|         0|           null|            1.0|\n",
            "|5008813|          F|           N|              Y|           0|        283500.0|           Pensioner|    Higher education|           Separated|House / apartment|    -22464|       365243|         1|              0|         0|         0|           null|            1.0|\n",
            "|5008814|          F|           N|              Y|           0|        283500.0|           Pensioner|    Higher education|           Separated|House / apartment|    -22464|       365243|         1|              0|         0|         0|           null|            1.0|\n",
            "|5008815|          M|           Y|              Y|           0|        270000.0|             Working|    Higher education|             Married|House / apartment|    -16872|         -769|         1|              1|         1|         1|    Accountants|            2.0|\n",
            "|5112956|          M|           Y|              Y|           0|        270000.0|             Working|    Higher education|             Married|House / apartment|    -16872|         -769|         1|              1|         1|         1|    Accountants|            2.0|\n",
            "|6153651|          M|           Y|              Y|           0|        270000.0|             Working|    Higher education|             Married|House / apartment|    -16872|         -769|         1|              1|         1|         1|    Accountants|            2.0|\n",
            "|5008819|          M|           Y|              Y|           0|        135000.0|Commercial associate|Secondary / secon...|             Married|House / apartment|    -17778|        -1194|         1|              0|         0|         0|       Laborers|            2.0|\n",
            "|5008820|          M|           Y|              Y|           0|        135000.0|Commercial associate|Secondary / secon...|             Married|House / apartment|    -17778|        -1194|         1|              0|         0|         0|       Laborers|            2.0|\n",
            "|5008821|          M|           Y|              Y|           0|        135000.0|Commercial associate|Secondary / secon...|             Married|House / apartment|    -17778|        -1194|         1|              0|         0|         0|       Laborers|            2.0|\n",
            "|5008822|          M|           Y|              Y|           0|        135000.0|Commercial associate|Secondary / secon...|             Married|House / apartment|    -17778|        -1194|         1|              0|         0|         0|       Laborers|            2.0|\n",
            "|5008823|          M|           Y|              Y|           0|        135000.0|Commercial associate|Secondary / secon...|             Married|House / apartment|    -17778|        -1194|         1|              0|         0|         0|       Laborers|            2.0|\n",
            "|5008824|          M|           Y|              Y|           0|        135000.0|Commercial associate|Secondary / secon...|             Married|House / apartment|    -17778|        -1194|         1|              0|         0|         0|       Laborers|            2.0|\n",
            "|5008825|          F|           Y|              N|           0|        130500.0|             Working|   Incomplete higher|             Married|House / apartment|    -10669|        -1103|         1|              0|         0|         0|    Accountants|            2.0|\n",
            "+-------+-----------+------------+---------------+------------+----------------+--------------------+--------------------+--------------------+-----------------+----------+-------------+----------+---------------+----------+----------+---------------+---------------+\n",
            "only showing top 20 rows\n",
            "\n"
          ]
        }
      ]
    },
    {
      "cell_type": "code",
      "source": [
        "pd.DataFrame(df_application.take(5), columns=df_application.columns).transpose()"
      ],
      "metadata": {
        "colab": {
          "base_uri": "https://localhost:8080/",
          "height": 614
        },
        "id": "hYLUDcT7EB1Q",
        "outputId": "a134a6fb-5306-412c-9929-f20eedcc6790"
      },
      "execution_count": null,
      "outputs": [
        {
          "output_type": "execute_result",
          "data": {
            "text/html": [
              "\n",
              "  <div id=\"df-a61f5c5a-ed02-4538-8048-4abf144e7692\">\n",
              "    <div class=\"colab-df-container\">\n",
              "      <div>\n",
              "<style scoped>\n",
              "    .dataframe tbody tr th:only-of-type {\n",
              "        vertical-align: middle;\n",
              "    }\n",
              "\n",
              "    .dataframe tbody tr th {\n",
              "        vertical-align: top;\n",
              "    }\n",
              "\n",
              "    .dataframe thead th {\n",
              "        text-align: right;\n",
              "    }\n",
              "</style>\n",
              "<table border=\"1\" class=\"dataframe\">\n",
              "  <thead>\n",
              "    <tr style=\"text-align: right;\">\n",
              "      <th></th>\n",
              "      <th>0</th>\n",
              "      <th>1</th>\n",
              "      <th>2</th>\n",
              "      <th>3</th>\n",
              "      <th>4</th>\n",
              "    </tr>\n",
              "  </thead>\n",
              "  <tbody>\n",
              "    <tr>\n",
              "      <th>ID</th>\n",
              "      <td>5008804</td>\n",
              "      <td>5008805</td>\n",
              "      <td>5008806</td>\n",
              "      <td>5008808</td>\n",
              "      <td>5008809</td>\n",
              "    </tr>\n",
              "    <tr>\n",
              "      <th>CODE_GENDER</th>\n",
              "      <td>M</td>\n",
              "      <td>M</td>\n",
              "      <td>M</td>\n",
              "      <td>F</td>\n",
              "      <td>F</td>\n",
              "    </tr>\n",
              "    <tr>\n",
              "      <th>FLAG_OWN_CAR</th>\n",
              "      <td>Y</td>\n",
              "      <td>Y</td>\n",
              "      <td>Y</td>\n",
              "      <td>N</td>\n",
              "      <td>N</td>\n",
              "    </tr>\n",
              "    <tr>\n",
              "      <th>FLAG_OWN_REALTY</th>\n",
              "      <td>Y</td>\n",
              "      <td>Y</td>\n",
              "      <td>Y</td>\n",
              "      <td>Y</td>\n",
              "      <td>Y</td>\n",
              "    </tr>\n",
              "    <tr>\n",
              "      <th>CNT_CHILDREN</th>\n",
              "      <td>0</td>\n",
              "      <td>0</td>\n",
              "      <td>0</td>\n",
              "      <td>0</td>\n",
              "      <td>0</td>\n",
              "    </tr>\n",
              "    <tr>\n",
              "      <th>AMT_INCOME_TOTAL</th>\n",
              "      <td>427500.0</td>\n",
              "      <td>427500.0</td>\n",
              "      <td>112500.0</td>\n",
              "      <td>270000.0</td>\n",
              "      <td>270000.0</td>\n",
              "    </tr>\n",
              "    <tr>\n",
              "      <th>NAME_INCOME_TYPE</th>\n",
              "      <td>Working</td>\n",
              "      <td>Working</td>\n",
              "      <td>Working</td>\n",
              "      <td>Commercial associate</td>\n",
              "      <td>Commercial associate</td>\n",
              "    </tr>\n",
              "    <tr>\n",
              "      <th>NAME_EDUCATION_TYPE</th>\n",
              "      <td>Higher education</td>\n",
              "      <td>Higher education</td>\n",
              "      <td>Secondary / secondary special</td>\n",
              "      <td>Secondary / secondary special</td>\n",
              "      <td>Secondary / secondary special</td>\n",
              "    </tr>\n",
              "    <tr>\n",
              "      <th>NAME_FAMILY_STATUS</th>\n",
              "      <td>Civil marriage</td>\n",
              "      <td>Civil marriage</td>\n",
              "      <td>Married</td>\n",
              "      <td>Single / not married</td>\n",
              "      <td>Single / not married</td>\n",
              "    </tr>\n",
              "    <tr>\n",
              "      <th>NAME_HOUSING_TYPE</th>\n",
              "      <td>Rented apartment</td>\n",
              "      <td>Rented apartment</td>\n",
              "      <td>House / apartment</td>\n",
              "      <td>House / apartment</td>\n",
              "      <td>House / apartment</td>\n",
              "    </tr>\n",
              "    <tr>\n",
              "      <th>DAYS_BIRTH</th>\n",
              "      <td>-12005</td>\n",
              "      <td>-12005</td>\n",
              "      <td>-21474</td>\n",
              "      <td>-19110</td>\n",
              "      <td>-19110</td>\n",
              "    </tr>\n",
              "    <tr>\n",
              "      <th>DAYS_EMPLOYED</th>\n",
              "      <td>-4542</td>\n",
              "      <td>-4542</td>\n",
              "      <td>-1134</td>\n",
              "      <td>-3051</td>\n",
              "      <td>-3051</td>\n",
              "    </tr>\n",
              "    <tr>\n",
              "      <th>FLAG_MOBIL</th>\n",
              "      <td>1</td>\n",
              "      <td>1</td>\n",
              "      <td>1</td>\n",
              "      <td>1</td>\n",
              "      <td>1</td>\n",
              "    </tr>\n",
              "    <tr>\n",
              "      <th>FLAG_WORK_PHONE</th>\n",
              "      <td>1</td>\n",
              "      <td>1</td>\n",
              "      <td>0</td>\n",
              "      <td>0</td>\n",
              "      <td>0</td>\n",
              "    </tr>\n",
              "    <tr>\n",
              "      <th>FLAG_PHONE</th>\n",
              "      <td>0</td>\n",
              "      <td>0</td>\n",
              "      <td>0</td>\n",
              "      <td>1</td>\n",
              "      <td>1</td>\n",
              "    </tr>\n",
              "    <tr>\n",
              "      <th>FLAG_EMAIL</th>\n",
              "      <td>0</td>\n",
              "      <td>0</td>\n",
              "      <td>0</td>\n",
              "      <td>1</td>\n",
              "      <td>1</td>\n",
              "    </tr>\n",
              "    <tr>\n",
              "      <th>OCCUPATION_TYPE</th>\n",
              "      <td>None</td>\n",
              "      <td>None</td>\n",
              "      <td>Security staff</td>\n",
              "      <td>Sales staff</td>\n",
              "      <td>Sales staff</td>\n",
              "    </tr>\n",
              "    <tr>\n",
              "      <th>CNT_FAM_MEMBERS</th>\n",
              "      <td>2.0</td>\n",
              "      <td>2.0</td>\n",
              "      <td>2.0</td>\n",
              "      <td>1.0</td>\n",
              "      <td>1.0</td>\n",
              "    </tr>\n",
              "  </tbody>\n",
              "</table>\n",
              "</div>\n",
              "      <button class=\"colab-df-convert\" onclick=\"convertToInteractive('df-a61f5c5a-ed02-4538-8048-4abf144e7692')\"\n",
              "              title=\"Convert this dataframe to an interactive table.\"\n",
              "              style=\"display:none;\">\n",
              "        \n",
              "  <svg xmlns=\"http://www.w3.org/2000/svg\" height=\"24px\"viewBox=\"0 0 24 24\"\n",
              "       width=\"24px\">\n",
              "    <path d=\"M0 0h24v24H0V0z\" fill=\"none\"/>\n",
              "    <path d=\"M18.56 5.44l.94 2.06.94-2.06 2.06-.94-2.06-.94-.94-2.06-.94 2.06-2.06.94zm-11 1L8.5 8.5l.94-2.06 2.06-.94-2.06-.94L8.5 2.5l-.94 2.06-2.06.94zm10 10l.94 2.06.94-2.06 2.06-.94-2.06-.94-.94-2.06-.94 2.06-2.06.94z\"/><path d=\"M17.41 7.96l-1.37-1.37c-.4-.4-.92-.59-1.43-.59-.52 0-1.04.2-1.43.59L10.3 9.45l-7.72 7.72c-.78.78-.78 2.05 0 2.83L4 21.41c.39.39.9.59 1.41.59.51 0 1.02-.2 1.41-.59l7.78-7.78 2.81-2.81c.8-.78.8-2.07 0-2.86zM5.41 20L4 18.59l7.72-7.72 1.47 1.35L5.41 20z\"/>\n",
              "  </svg>\n",
              "      </button>\n",
              "      \n",
              "  <style>\n",
              "    .colab-df-container {\n",
              "      display:flex;\n",
              "      flex-wrap:wrap;\n",
              "      gap: 12px;\n",
              "    }\n",
              "\n",
              "    .colab-df-convert {\n",
              "      background-color: #E8F0FE;\n",
              "      border: none;\n",
              "      border-radius: 50%;\n",
              "      cursor: pointer;\n",
              "      display: none;\n",
              "      fill: #1967D2;\n",
              "      height: 32px;\n",
              "      padding: 0 0 0 0;\n",
              "      width: 32px;\n",
              "    }\n",
              "\n",
              "    .colab-df-convert:hover {\n",
              "      background-color: #E2EBFA;\n",
              "      box-shadow: 0px 1px 2px rgba(60, 64, 67, 0.3), 0px 1px 3px 1px rgba(60, 64, 67, 0.15);\n",
              "      fill: #174EA6;\n",
              "    }\n",
              "\n",
              "    [theme=dark] .colab-df-convert {\n",
              "      background-color: #3B4455;\n",
              "      fill: #D2E3FC;\n",
              "    }\n",
              "\n",
              "    [theme=dark] .colab-df-convert:hover {\n",
              "      background-color: #434B5C;\n",
              "      box-shadow: 0px 1px 3px 1px rgba(0, 0, 0, 0.15);\n",
              "      filter: drop-shadow(0px 1px 2px rgba(0, 0, 0, 0.3));\n",
              "      fill: #FFFFFF;\n",
              "    }\n",
              "  </style>\n",
              "\n",
              "      <script>\n",
              "        const buttonEl =\n",
              "          document.querySelector('#df-a61f5c5a-ed02-4538-8048-4abf144e7692 button.colab-df-convert');\n",
              "        buttonEl.style.display =\n",
              "          google.colab.kernel.accessAllowed ? 'block' : 'none';\n",
              "\n",
              "        async function convertToInteractive(key) {\n",
              "          const element = document.querySelector('#df-a61f5c5a-ed02-4538-8048-4abf144e7692');\n",
              "          const dataTable =\n",
              "            await google.colab.kernel.invokeFunction('convertToInteractive',\n",
              "                                                     [key], {});\n",
              "          if (!dataTable) return;\n",
              "\n",
              "          const docLinkHtml = 'Like what you see? Visit the ' +\n",
              "            '<a target=\"_blank\" href=https://colab.research.google.com/notebooks/data_table.ipynb>data table notebook</a>'\n",
              "            + ' to learn more about interactive tables.';\n",
              "          element.innerHTML = '';\n",
              "          dataTable['output_type'] = 'display_data';\n",
              "          await google.colab.output.renderOutput(dataTable, element);\n",
              "          const docLink = document.createElement('div');\n",
              "          docLink.innerHTML = docLinkHtml;\n",
              "          element.appendChild(docLink);\n",
              "        }\n",
              "      </script>\n",
              "    </div>\n",
              "  </div>\n",
              "  "
            ],
            "text/plain": [
              "                                    0                 1  \\\n",
              "ID                            5008804           5008805   \n",
              "CODE_GENDER                         M                 M   \n",
              "FLAG_OWN_CAR                        Y                 Y   \n",
              "FLAG_OWN_REALTY                     Y                 Y   \n",
              "CNT_CHILDREN                        0                 0   \n",
              "AMT_INCOME_TOTAL             427500.0          427500.0   \n",
              "NAME_INCOME_TYPE              Working           Working   \n",
              "NAME_EDUCATION_TYPE  Higher education  Higher education   \n",
              "NAME_FAMILY_STATUS     Civil marriage    Civil marriage   \n",
              "NAME_HOUSING_TYPE    Rented apartment  Rented apartment   \n",
              "DAYS_BIRTH                     -12005            -12005   \n",
              "DAYS_EMPLOYED                   -4542             -4542   \n",
              "FLAG_MOBIL                          1                 1   \n",
              "FLAG_WORK_PHONE                     1                 1   \n",
              "FLAG_PHONE                          0                 0   \n",
              "FLAG_EMAIL                          0                 0   \n",
              "OCCUPATION_TYPE                  None              None   \n",
              "CNT_FAM_MEMBERS                   2.0               2.0   \n",
              "\n",
              "                                                 2  \\\n",
              "ID                                         5008806   \n",
              "CODE_GENDER                                      M   \n",
              "FLAG_OWN_CAR                                     Y   \n",
              "FLAG_OWN_REALTY                                  Y   \n",
              "CNT_CHILDREN                                     0   \n",
              "AMT_INCOME_TOTAL                          112500.0   \n",
              "NAME_INCOME_TYPE                           Working   \n",
              "NAME_EDUCATION_TYPE  Secondary / secondary special   \n",
              "NAME_FAMILY_STATUS                         Married   \n",
              "NAME_HOUSING_TYPE                House / apartment   \n",
              "DAYS_BIRTH                                  -21474   \n",
              "DAYS_EMPLOYED                                -1134   \n",
              "FLAG_MOBIL                                       1   \n",
              "FLAG_WORK_PHONE                                  0   \n",
              "FLAG_PHONE                                       0   \n",
              "FLAG_EMAIL                                       0   \n",
              "OCCUPATION_TYPE                     Security staff   \n",
              "CNT_FAM_MEMBERS                                2.0   \n",
              "\n",
              "                                                 3  \\\n",
              "ID                                         5008808   \n",
              "CODE_GENDER                                      F   \n",
              "FLAG_OWN_CAR                                     N   \n",
              "FLAG_OWN_REALTY                                  Y   \n",
              "CNT_CHILDREN                                     0   \n",
              "AMT_INCOME_TOTAL                          270000.0   \n",
              "NAME_INCOME_TYPE              Commercial associate   \n",
              "NAME_EDUCATION_TYPE  Secondary / secondary special   \n",
              "NAME_FAMILY_STATUS            Single / not married   \n",
              "NAME_HOUSING_TYPE                House / apartment   \n",
              "DAYS_BIRTH                                  -19110   \n",
              "DAYS_EMPLOYED                                -3051   \n",
              "FLAG_MOBIL                                       1   \n",
              "FLAG_WORK_PHONE                                  0   \n",
              "FLAG_PHONE                                       1   \n",
              "FLAG_EMAIL                                       1   \n",
              "OCCUPATION_TYPE                        Sales staff   \n",
              "CNT_FAM_MEMBERS                                1.0   \n",
              "\n",
              "                                                 4  \n",
              "ID                                         5008809  \n",
              "CODE_GENDER                                      F  \n",
              "FLAG_OWN_CAR                                     N  \n",
              "FLAG_OWN_REALTY                                  Y  \n",
              "CNT_CHILDREN                                     0  \n",
              "AMT_INCOME_TOTAL                          270000.0  \n",
              "NAME_INCOME_TYPE              Commercial associate  \n",
              "NAME_EDUCATION_TYPE  Secondary / secondary special  \n",
              "NAME_FAMILY_STATUS            Single / not married  \n",
              "NAME_HOUSING_TYPE                House / apartment  \n",
              "DAYS_BIRTH                                  -19110  \n",
              "DAYS_EMPLOYED                                -3051  \n",
              "FLAG_MOBIL                                       1  \n",
              "FLAG_WORK_PHONE                                  0  \n",
              "FLAG_PHONE                                       1  \n",
              "FLAG_EMAIL                                       1  \n",
              "OCCUPATION_TYPE                        Sales staff  \n",
              "CNT_FAM_MEMBERS                                1.0  "
            ]
          },
          "metadata": {},
          "execution_count": 242
        }
      ]
    },
    {
      "cell_type": "code",
      "source": [
        "df_application.describe().toPandas().transpose()"
      ],
      "metadata": {
        "colab": {
          "base_uri": "https://localhost:8080/",
          "height": 645
        },
        "id": "eX5cf4IhLS9W",
        "outputId": "6ad84628-b5d4-4dba-c058-9b124e08dbb9"
      },
      "execution_count": null,
      "outputs": [
        {
          "output_type": "execute_result",
          "data": {
            "text/html": [
              "\n",
              "  <div id=\"df-28266d92-dca8-4fd7-bb02-c08695318e4a\">\n",
              "    <div class=\"colab-df-container\">\n",
              "      <div>\n",
              "<style scoped>\n",
              "    .dataframe tbody tr th:only-of-type {\n",
              "        vertical-align: middle;\n",
              "    }\n",
              "\n",
              "    .dataframe tbody tr th {\n",
              "        vertical-align: top;\n",
              "    }\n",
              "\n",
              "    .dataframe thead th {\n",
              "        text-align: right;\n",
              "    }\n",
              "</style>\n",
              "<table border=\"1\" class=\"dataframe\">\n",
              "  <thead>\n",
              "    <tr style=\"text-align: right;\">\n",
              "      <th></th>\n",
              "      <th>0</th>\n",
              "      <th>1</th>\n",
              "      <th>2</th>\n",
              "      <th>3</th>\n",
              "      <th>4</th>\n",
              "    </tr>\n",
              "  </thead>\n",
              "  <tbody>\n",
              "    <tr>\n",
              "      <th>summary</th>\n",
              "      <td>count</td>\n",
              "      <td>mean</td>\n",
              "      <td>stddev</td>\n",
              "      <td>min</td>\n",
              "      <td>max</td>\n",
              "    </tr>\n",
              "    <tr>\n",
              "      <th>ID</th>\n",
              "      <td>438557</td>\n",
              "      <td>6022176.269841776</td>\n",
              "      <td>571637.0232571006</td>\n",
              "      <td>5008804</td>\n",
              "      <td>7999952</td>\n",
              "    </tr>\n",
              "    <tr>\n",
              "      <th>CODE_GENDER</th>\n",
              "      <td>438557</td>\n",
              "      <td>None</td>\n",
              "      <td>None</td>\n",
              "      <td>F</td>\n",
              "      <td>M</td>\n",
              "    </tr>\n",
              "    <tr>\n",
              "      <th>FLAG_OWN_CAR</th>\n",
              "      <td>438557</td>\n",
              "      <td>None</td>\n",
              "      <td>None</td>\n",
              "      <td>N</td>\n",
              "      <td>Y</td>\n",
              "    </tr>\n",
              "    <tr>\n",
              "      <th>FLAG_OWN_REALTY</th>\n",
              "      <td>438557</td>\n",
              "      <td>None</td>\n",
              "      <td>None</td>\n",
              "      <td>N</td>\n",
              "      <td>Y</td>\n",
              "    </tr>\n",
              "    <tr>\n",
              "      <th>CNT_CHILDREN</th>\n",
              "      <td>438557</td>\n",
              "      <td>0.42739028222101116</td>\n",
              "      <td>0.724882213552146</td>\n",
              "      <td>0</td>\n",
              "      <td>19</td>\n",
              "    </tr>\n",
              "    <tr>\n",
              "      <th>AMT_INCOME_TOTAL</th>\n",
              "      <td>438557</td>\n",
              "      <td>187524.2860095039</td>\n",
              "      <td>110086.85306622987</td>\n",
              "      <td>26100.0</td>\n",
              "      <td>6750000.0</td>\n",
              "    </tr>\n",
              "    <tr>\n",
              "      <th>NAME_INCOME_TYPE</th>\n",
              "      <td>438557</td>\n",
              "      <td>None</td>\n",
              "      <td>None</td>\n",
              "      <td>Commercial associate</td>\n",
              "      <td>Working</td>\n",
              "    </tr>\n",
              "    <tr>\n",
              "      <th>NAME_EDUCATION_TYPE</th>\n",
              "      <td>438557</td>\n",
              "      <td>None</td>\n",
              "      <td>None</td>\n",
              "      <td>Academic degree</td>\n",
              "      <td>Secondary / secondary special</td>\n",
              "    </tr>\n",
              "    <tr>\n",
              "      <th>NAME_FAMILY_STATUS</th>\n",
              "      <td>438557</td>\n",
              "      <td>None</td>\n",
              "      <td>None</td>\n",
              "      <td>Civil marriage</td>\n",
              "      <td>Widow</td>\n",
              "    </tr>\n",
              "    <tr>\n",
              "      <th>NAME_HOUSING_TYPE</th>\n",
              "      <td>438557</td>\n",
              "      <td>None</td>\n",
              "      <td>None</td>\n",
              "      <td>Co-op apartment</td>\n",
              "      <td>With parents</td>\n",
              "    </tr>\n",
              "    <tr>\n",
              "      <th>DAYS_BIRTH</th>\n",
              "      <td>438557</td>\n",
              "      <td>-15997.904648654565</td>\n",
              "      <td>4185.030006794112</td>\n",
              "      <td>-25201</td>\n",
              "      <td>-7489</td>\n",
              "    </tr>\n",
              "    <tr>\n",
              "      <th>DAYS_EMPLOYED</th>\n",
              "      <td>438557</td>\n",
              "      <td>60563.67532840657</td>\n",
              "      <td>138767.7996466682</td>\n",
              "      <td>-17531</td>\n",
              "      <td>365243</td>\n",
              "    </tr>\n",
              "    <tr>\n",
              "      <th>FLAG_MOBIL</th>\n",
              "      <td>438557</td>\n",
              "      <td>1.0</td>\n",
              "      <td>0.0</td>\n",
              "      <td>1</td>\n",
              "      <td>1</td>\n",
              "    </tr>\n",
              "    <tr>\n",
              "      <th>FLAG_WORK_PHONE</th>\n",
              "      <td>438557</td>\n",
              "      <td>0.2061328402009317</td>\n",
              "      <td>0.4045274595500885</td>\n",
              "      <td>0</td>\n",
              "      <td>1</td>\n",
              "    </tr>\n",
              "    <tr>\n",
              "      <th>FLAG_PHONE</th>\n",
              "      <td>438557</td>\n",
              "      <td>0.28777103090362255</td>\n",
              "      <td>0.452724344414615</td>\n",
              "      <td>0</td>\n",
              "      <td>1</td>\n",
              "    </tr>\n",
              "    <tr>\n",
              "      <th>FLAG_EMAIL</th>\n",
              "      <td>438557</td>\n",
              "      <td>0.10820714297115312</td>\n",
              "      <td>0.3106422012826674</td>\n",
              "      <td>0</td>\n",
              "      <td>1</td>\n",
              "    </tr>\n",
              "    <tr>\n",
              "      <th>OCCUPATION_TYPE</th>\n",
              "      <td>304354</td>\n",
              "      <td>None</td>\n",
              "      <td>None</td>\n",
              "      <td>Accountants</td>\n",
              "      <td>Waiters/barmen staff</td>\n",
              "    </tr>\n",
              "    <tr>\n",
              "      <th>CNT_FAM_MEMBERS</th>\n",
              "      <td>438557</td>\n",
              "      <td>2.194465029631268</td>\n",
              "      <td>0.897207330056299</td>\n",
              "      <td>1.0</td>\n",
              "      <td>20.0</td>\n",
              "    </tr>\n",
              "  </tbody>\n",
              "</table>\n",
              "</div>\n",
              "      <button class=\"colab-df-convert\" onclick=\"convertToInteractive('df-28266d92-dca8-4fd7-bb02-c08695318e4a')\"\n",
              "              title=\"Convert this dataframe to an interactive table.\"\n",
              "              style=\"display:none;\">\n",
              "        \n",
              "  <svg xmlns=\"http://www.w3.org/2000/svg\" height=\"24px\"viewBox=\"0 0 24 24\"\n",
              "       width=\"24px\">\n",
              "    <path d=\"M0 0h24v24H0V0z\" fill=\"none\"/>\n",
              "    <path d=\"M18.56 5.44l.94 2.06.94-2.06 2.06-.94-2.06-.94-.94-2.06-.94 2.06-2.06.94zm-11 1L8.5 8.5l.94-2.06 2.06-.94-2.06-.94L8.5 2.5l-.94 2.06-2.06.94zm10 10l.94 2.06.94-2.06 2.06-.94-2.06-.94-.94-2.06-.94 2.06-2.06.94z\"/><path d=\"M17.41 7.96l-1.37-1.37c-.4-.4-.92-.59-1.43-.59-.52 0-1.04.2-1.43.59L10.3 9.45l-7.72 7.72c-.78.78-.78 2.05 0 2.83L4 21.41c.39.39.9.59 1.41.59.51 0 1.02-.2 1.41-.59l7.78-7.78 2.81-2.81c.8-.78.8-2.07 0-2.86zM5.41 20L4 18.59l7.72-7.72 1.47 1.35L5.41 20z\"/>\n",
              "  </svg>\n",
              "      </button>\n",
              "      \n",
              "  <style>\n",
              "    .colab-df-container {\n",
              "      display:flex;\n",
              "      flex-wrap:wrap;\n",
              "      gap: 12px;\n",
              "    }\n",
              "\n",
              "    .colab-df-convert {\n",
              "      background-color: #E8F0FE;\n",
              "      border: none;\n",
              "      border-radius: 50%;\n",
              "      cursor: pointer;\n",
              "      display: none;\n",
              "      fill: #1967D2;\n",
              "      height: 32px;\n",
              "      padding: 0 0 0 0;\n",
              "      width: 32px;\n",
              "    }\n",
              "\n",
              "    .colab-df-convert:hover {\n",
              "      background-color: #E2EBFA;\n",
              "      box-shadow: 0px 1px 2px rgba(60, 64, 67, 0.3), 0px 1px 3px 1px rgba(60, 64, 67, 0.15);\n",
              "      fill: #174EA6;\n",
              "    }\n",
              "\n",
              "    [theme=dark] .colab-df-convert {\n",
              "      background-color: #3B4455;\n",
              "      fill: #D2E3FC;\n",
              "    }\n",
              "\n",
              "    [theme=dark] .colab-df-convert:hover {\n",
              "      background-color: #434B5C;\n",
              "      box-shadow: 0px 1px 3px 1px rgba(0, 0, 0, 0.15);\n",
              "      filter: drop-shadow(0px 1px 2px rgba(0, 0, 0, 0.3));\n",
              "      fill: #FFFFFF;\n",
              "    }\n",
              "  </style>\n",
              "\n",
              "      <script>\n",
              "        const buttonEl =\n",
              "          document.querySelector('#df-28266d92-dca8-4fd7-bb02-c08695318e4a button.colab-df-convert');\n",
              "        buttonEl.style.display =\n",
              "          google.colab.kernel.accessAllowed ? 'block' : 'none';\n",
              "\n",
              "        async function convertToInteractive(key) {\n",
              "          const element = document.querySelector('#df-28266d92-dca8-4fd7-bb02-c08695318e4a');\n",
              "          const dataTable =\n",
              "            await google.colab.kernel.invokeFunction('convertToInteractive',\n",
              "                                                     [key], {});\n",
              "          if (!dataTable) return;\n",
              "\n",
              "          const docLinkHtml = 'Like what you see? Visit the ' +\n",
              "            '<a target=\"_blank\" href=https://colab.research.google.com/notebooks/data_table.ipynb>data table notebook</a>'\n",
              "            + ' to learn more about interactive tables.';\n",
              "          element.innerHTML = '';\n",
              "          dataTable['output_type'] = 'display_data';\n",
              "          await google.colab.output.renderOutput(dataTable, element);\n",
              "          const docLink = document.createElement('div');\n",
              "          docLink.innerHTML = docLinkHtml;\n",
              "          element.appendChild(docLink);\n",
              "        }\n",
              "      </script>\n",
              "    </div>\n",
              "  </div>\n",
              "  "
            ],
            "text/plain": [
              "                          0                    1                   2  \\\n",
              "summary               count                 mean              stddev   \n",
              "ID                   438557    6022176.269841776   571637.0232571006   \n",
              "CODE_GENDER          438557                 None                None   \n",
              "FLAG_OWN_CAR         438557                 None                None   \n",
              "FLAG_OWN_REALTY      438557                 None                None   \n",
              "CNT_CHILDREN         438557  0.42739028222101116   0.724882213552146   \n",
              "AMT_INCOME_TOTAL     438557    187524.2860095039  110086.85306622987   \n",
              "NAME_INCOME_TYPE     438557                 None                None   \n",
              "NAME_EDUCATION_TYPE  438557                 None                None   \n",
              "NAME_FAMILY_STATUS   438557                 None                None   \n",
              "NAME_HOUSING_TYPE    438557                 None                None   \n",
              "DAYS_BIRTH           438557  -15997.904648654565   4185.030006794112   \n",
              "DAYS_EMPLOYED        438557    60563.67532840657   138767.7996466682   \n",
              "FLAG_MOBIL           438557                  1.0                 0.0   \n",
              "FLAG_WORK_PHONE      438557   0.2061328402009317  0.4045274595500885   \n",
              "FLAG_PHONE           438557  0.28777103090362255   0.452724344414615   \n",
              "FLAG_EMAIL           438557  0.10820714297115312  0.3106422012826674   \n",
              "OCCUPATION_TYPE      304354                 None                None   \n",
              "CNT_FAM_MEMBERS      438557    2.194465029631268   0.897207330056299   \n",
              "\n",
              "                                        3                              4  \n",
              "summary                               min                            max  \n",
              "ID                                5008804                        7999952  \n",
              "CODE_GENDER                             F                              M  \n",
              "FLAG_OWN_CAR                            N                              Y  \n",
              "FLAG_OWN_REALTY                         N                              Y  \n",
              "CNT_CHILDREN                            0                             19  \n",
              "AMT_INCOME_TOTAL                  26100.0                      6750000.0  \n",
              "NAME_INCOME_TYPE     Commercial associate                        Working  \n",
              "NAME_EDUCATION_TYPE       Academic degree  Secondary / secondary special  \n",
              "NAME_FAMILY_STATUS         Civil marriage                          Widow  \n",
              "NAME_HOUSING_TYPE         Co-op apartment                   With parents  \n",
              "DAYS_BIRTH                         -25201                          -7489  \n",
              "DAYS_EMPLOYED                      -17531                         365243  \n",
              "FLAG_MOBIL                              1                              1  \n",
              "FLAG_WORK_PHONE                         0                              1  \n",
              "FLAG_PHONE                              0                              1  \n",
              "FLAG_EMAIL                              0                              1  \n",
              "OCCUPATION_TYPE               Accountants           Waiters/barmen staff  \n",
              "CNT_FAM_MEMBERS                       1.0                           20.0  "
            ]
          },
          "metadata": {},
          "execution_count": 243
        }
      ]
    },
    {
      "cell_type": "markdown",
      "source": [
        "# Preprocessing"
      ],
      "metadata": {
        "id": "5XbfLiLZRSFF"
      }
    },
    {
      "cell_type": "code",
      "source": [
        "# Dropping Null value rows\n",
        "\n",
        "df_application = df_application.na.drop()"
      ],
      "metadata": {
        "id": "W46n19y9MIEn"
      },
      "execution_count": null,
      "outputs": []
    },
    {
      "cell_type": "code",
      "source": [
        "df_application.show()"
      ],
      "metadata": {
        "colab": {
          "base_uri": "https://localhost:8080/"
        },
        "id": "MtNk1h2bNKdx",
        "outputId": "b97f9b61-b02f-49e3-9b9e-83b5e348a162"
      },
      "execution_count": null,
      "outputs": [
        {
          "output_type": "stream",
          "name": "stdout",
          "text": [
            "+-------+-----------+------------+---------------+------------+----------------+--------------------+--------------------+--------------------+-----------------+----------+-------------+----------+---------------+----------+----------+---------------+---------------+\n",
            "|     ID|CODE_GENDER|FLAG_OWN_CAR|FLAG_OWN_REALTY|CNT_CHILDREN|AMT_INCOME_TOTAL|    NAME_INCOME_TYPE| NAME_EDUCATION_TYPE|  NAME_FAMILY_STATUS|NAME_HOUSING_TYPE|DAYS_BIRTH|DAYS_EMPLOYED|FLAG_MOBIL|FLAG_WORK_PHONE|FLAG_PHONE|FLAG_EMAIL|OCCUPATION_TYPE|CNT_FAM_MEMBERS|\n",
            "+-------+-----------+------------+---------------+------------+----------------+--------------------+--------------------+--------------------+-----------------+----------+-------------+----------+---------------+----------+----------+---------------+---------------+\n",
            "|5008806|          M|           Y|              Y|           0|        112500.0|             Working|Secondary / secon...|             Married|House / apartment|    -21474|        -1134|         1|              0|         0|         0| Security staff|            2.0|\n",
            "|5008808|          F|           N|              Y|           0|        270000.0|Commercial associate|Secondary / secon...|Single / not married|House / apartment|    -19110|        -3051|         1|              0|         1|         1|    Sales staff|            1.0|\n",
            "|5008809|          F|           N|              Y|           0|        270000.0|Commercial associate|Secondary / secon...|Single / not married|House / apartment|    -19110|        -3051|         1|              0|         1|         1|    Sales staff|            1.0|\n",
            "|5008810|          F|           N|              Y|           0|        270000.0|Commercial associate|Secondary / secon...|Single / not married|House / apartment|    -19110|        -3051|         1|              0|         1|         1|    Sales staff|            1.0|\n",
            "|5008811|          F|           N|              Y|           0|        270000.0|Commercial associate|Secondary / secon...|Single / not married|House / apartment|    -19110|        -3051|         1|              0|         1|         1|    Sales staff|            1.0|\n",
            "|5008815|          M|           Y|              Y|           0|        270000.0|             Working|    Higher education|             Married|House / apartment|    -16872|         -769|         1|              1|         1|         1|    Accountants|            2.0|\n",
            "|5112956|          M|           Y|              Y|           0|        270000.0|             Working|    Higher education|             Married|House / apartment|    -16872|         -769|         1|              1|         1|         1|    Accountants|            2.0|\n",
            "|6153651|          M|           Y|              Y|           0|        270000.0|             Working|    Higher education|             Married|House / apartment|    -16872|         -769|         1|              1|         1|         1|    Accountants|            2.0|\n",
            "|5008819|          M|           Y|              Y|           0|        135000.0|Commercial associate|Secondary / secon...|             Married|House / apartment|    -17778|        -1194|         1|              0|         0|         0|       Laborers|            2.0|\n",
            "|5008820|          M|           Y|              Y|           0|        135000.0|Commercial associate|Secondary / secon...|             Married|House / apartment|    -17778|        -1194|         1|              0|         0|         0|       Laborers|            2.0|\n",
            "|5008821|          M|           Y|              Y|           0|        135000.0|Commercial associate|Secondary / secon...|             Married|House / apartment|    -17778|        -1194|         1|              0|         0|         0|       Laborers|            2.0|\n",
            "|5008822|          M|           Y|              Y|           0|        135000.0|Commercial associate|Secondary / secon...|             Married|House / apartment|    -17778|        -1194|         1|              0|         0|         0|       Laborers|            2.0|\n",
            "|5008823|          M|           Y|              Y|           0|        135000.0|Commercial associate|Secondary / secon...|             Married|House / apartment|    -17778|        -1194|         1|              0|         0|         0|       Laborers|            2.0|\n",
            "|5008824|          M|           Y|              Y|           0|        135000.0|Commercial associate|Secondary / secon...|             Married|House / apartment|    -17778|        -1194|         1|              0|         0|         0|       Laborers|            2.0|\n",
            "|5008825|          F|           Y|              N|           0|        130500.0|             Working|   Incomplete higher|             Married|House / apartment|    -10669|        -1103|         1|              0|         0|         0|    Accountants|            2.0|\n",
            "|5008826|          F|           Y|              N|           0|        130500.0|             Working|   Incomplete higher|             Married|House / apartment|    -10669|        -1103|         1|              0|         0|         0|    Accountants|            2.0|\n",
            "|5008830|          F|           N|              Y|           0|        157500.0|             Working|Secondary / secon...|             Married|House / apartment|    -10031|        -1469|         1|              0|         1|         0|       Laborers|            2.0|\n",
            "|5008831|          F|           N|              Y|           0|        157500.0|             Working|Secondary / secon...|             Married|House / apartment|    -10031|        -1469|         1|              0|         1|         0|       Laborers|            2.0|\n",
            "|5008832|          F|           N|              Y|           0|        157500.0|             Working|Secondary / secon...|             Married|House / apartment|    -10031|        -1469|         1|              0|         1|         0|       Laborers|            2.0|\n",
            "|5008836|          M|           Y|              Y|           3|        270000.0|             Working|Secondary / secon...|             Married|House / apartment|    -12689|        -1163|         1|              0|         0|         0|       Laborers|            5.0|\n",
            "+-------+-----------+------------+---------------+------------+----------------+--------------------+--------------------+--------------------+-----------------+----------+-------------+----------+---------------+----------+----------+---------------+---------------+\n",
            "only showing top 20 rows\n",
            "\n"
          ]
        }
      ]
    },
    {
      "cell_type": "code",
      "source": [
        "# Total datapoints left after removing null\n",
        "\n",
        "df_application.count()"
      ],
      "metadata": {
        "colab": {
          "base_uri": "https://localhost:8080/"
        },
        "id": "wP-4J4ChPEQn",
        "outputId": "1a988f6d-0f07-4d2b-fa9d-504950031132"
      },
      "execution_count": null,
      "outputs": [
        {
          "output_type": "execute_result",
          "data": {
            "text/plain": [
              "304354"
            ]
          },
          "metadata": {},
          "execution_count": 246
        }
      ]
    },
    {
      "cell_type": "markdown",
      "source": [
        "Merging both datasets using id"
      ],
      "metadata": {
        "id": "zljZl7dzWf8x"
      }
    },
    {
      "cell_type": "code",
      "source": [
        "app_df = df_application.sort('ID')\n",
        "credit_df = df_credit.sort('ID')"
      ],
      "metadata": {
        "id": "uXtnKdJ_PhxQ"
      },
      "execution_count": null,
      "outputs": []
    },
    {
      "cell_type": "code",
      "source": [
        "app_df.show()"
      ],
      "metadata": {
        "colab": {
          "base_uri": "https://localhost:8080/"
        },
        "id": "__t_WPyOW4iP",
        "outputId": "ab0ca86d-01b6-4161-feb3-972195292f98"
      },
      "execution_count": null,
      "outputs": [
        {
          "output_type": "stream",
          "name": "stdout",
          "text": [
            "+-------+-----------+------------+---------------+------------+----------------+--------------------+--------------------+--------------------+-----------------+----------+-------------+----------+---------------+----------+----------+---------------+---------------+\n",
            "|     ID|CODE_GENDER|FLAG_OWN_CAR|FLAG_OWN_REALTY|CNT_CHILDREN|AMT_INCOME_TOTAL|    NAME_INCOME_TYPE| NAME_EDUCATION_TYPE|  NAME_FAMILY_STATUS|NAME_HOUSING_TYPE|DAYS_BIRTH|DAYS_EMPLOYED|FLAG_MOBIL|FLAG_WORK_PHONE|FLAG_PHONE|FLAG_EMAIL|OCCUPATION_TYPE|CNT_FAM_MEMBERS|\n",
            "+-------+-----------+------------+---------------+------------+----------------+--------------------+--------------------+--------------------+-----------------+----------+-------------+----------+---------------+----------+----------+---------------+---------------+\n",
            "|5008806|          M|           Y|              Y|           0|        112500.0|             Working|Secondary / secon...|             Married|House / apartment|    -21474|        -1134|         1|              0|         0|         0| Security staff|            2.0|\n",
            "|5008808|          F|           N|              Y|           0|        270000.0|Commercial associate|Secondary / secon...|Single / not married|House / apartment|    -19110|        -3051|         1|              0|         1|         1|    Sales staff|            1.0|\n",
            "|5008809|          F|           N|              Y|           0|        270000.0|Commercial associate|Secondary / secon...|Single / not married|House / apartment|    -19110|        -3051|         1|              0|         1|         1|    Sales staff|            1.0|\n",
            "|5008810|          F|           N|              Y|           0|        270000.0|Commercial associate|Secondary / secon...|Single / not married|House / apartment|    -19110|        -3051|         1|              0|         1|         1|    Sales staff|            1.0|\n",
            "|5008811|          F|           N|              Y|           0|        270000.0|Commercial associate|Secondary / secon...|Single / not married|House / apartment|    -19110|        -3051|         1|              0|         1|         1|    Sales staff|            1.0|\n",
            "|5008815|          M|           Y|              Y|           0|        270000.0|             Working|    Higher education|             Married|House / apartment|    -16872|         -769|         1|              1|         1|         1|    Accountants|            2.0|\n",
            "|5008819|          M|           Y|              Y|           0|        135000.0|Commercial associate|Secondary / secon...|             Married|House / apartment|    -17778|        -1194|         1|              0|         0|         0|       Laborers|            2.0|\n",
            "|5008820|          M|           Y|              Y|           0|        135000.0|Commercial associate|Secondary / secon...|             Married|House / apartment|    -17778|        -1194|         1|              0|         0|         0|       Laborers|            2.0|\n",
            "|5008821|          M|           Y|              Y|           0|        135000.0|Commercial associate|Secondary / secon...|             Married|House / apartment|    -17778|        -1194|         1|              0|         0|         0|       Laborers|            2.0|\n",
            "|5008822|          M|           Y|              Y|           0|        135000.0|Commercial associate|Secondary / secon...|             Married|House / apartment|    -17778|        -1194|         1|              0|         0|         0|       Laborers|            2.0|\n",
            "|5008823|          M|           Y|              Y|           0|        135000.0|Commercial associate|Secondary / secon...|             Married|House / apartment|    -17778|        -1194|         1|              0|         0|         0|       Laborers|            2.0|\n",
            "|5008824|          M|           Y|              Y|           0|        135000.0|Commercial associate|Secondary / secon...|             Married|House / apartment|    -17778|        -1194|         1|              0|         0|         0|       Laborers|            2.0|\n",
            "|5008825|          F|           Y|              N|           0|        130500.0|             Working|   Incomplete higher|             Married|House / apartment|    -10669|        -1103|         1|              0|         0|         0|    Accountants|            2.0|\n",
            "|5008826|          F|           Y|              N|           0|        130500.0|             Working|   Incomplete higher|             Married|House / apartment|    -10669|        -1103|         1|              0|         0|         0|    Accountants|            2.0|\n",
            "|5008830|          F|           N|              Y|           0|        157500.0|             Working|Secondary / secon...|             Married|House / apartment|    -10031|        -1469|         1|              0|         1|         0|       Laborers|            2.0|\n",
            "|5008831|          F|           N|              Y|           0|        157500.0|             Working|Secondary / secon...|             Married|House / apartment|    -10031|        -1469|         1|              0|         1|         0|       Laborers|            2.0|\n",
            "|5008832|          F|           N|              Y|           0|        157500.0|             Working|Secondary / secon...|             Married|House / apartment|    -10031|        -1469|         1|              0|         1|         0|       Laborers|            2.0|\n",
            "|5008836|          M|           Y|              Y|           3|        270000.0|             Working|Secondary / secon...|             Married|House / apartment|    -12689|        -1163|         1|              0|         0|         0|       Laborers|            5.0|\n",
            "|5008837|          M|           Y|              Y|           3|        270000.0|             Working|Secondary / secon...|             Married|House / apartment|    -12689|        -1163|         1|              0|         0|         0|       Laborers|            5.0|\n",
            "|5008838|          M|           N|              Y|           1|        405000.0|Commercial associate|    Higher education|             Married|House / apartment|    -11842|        -2016|         1|              0|         0|         0|       Managers|            3.0|\n",
            "+-------+-----------+------------+---------------+------------+----------------+--------------------+--------------------+--------------------+-----------------+----------+-------------+----------+---------------+----------+----------+---------------+---------------+\n",
            "only showing top 20 rows\n",
            "\n"
          ]
        }
      ]
    },
    {
      "cell_type": "code",
      "source": [
        "credit_df.show()"
      ],
      "metadata": {
        "colab": {
          "base_uri": "https://localhost:8080/"
        },
        "id": "3GqPGFccXuxk",
        "outputId": "8cfed970-475c-4cc5-ebfd-ed072c1859e6"
      },
      "execution_count": null,
      "outputs": [
        {
          "output_type": "stream",
          "name": "stdout",
          "text": [
            "+-------+--------------+------+\n",
            "|     ID|MONTHS_BALANCE|STATUS|\n",
            "+-------+--------------+------+\n",
            "|5001711|            -2|     0|\n",
            "|5001711|            -3|     0|\n",
            "|5001711|             0|     X|\n",
            "|5001711|            -1|     0|\n",
            "|5001712|           -15|     0|\n",
            "|5001712|           -11|     0|\n",
            "|5001712|           -14|     0|\n",
            "|5001712|            -5|     C|\n",
            "|5001712|           -12|     0|\n",
            "|5001712|            -6|     C|\n",
            "|5001712|           -10|     0|\n",
            "|5001712|            -3|     C|\n",
            "|5001712|            -2|     C|\n",
            "|5001712|           -13|     0|\n",
            "|5001712|            -4|     C|\n",
            "|5001712|            -8|     C|\n",
            "|5001712|            -9|     0|\n",
            "|5001712|             0|     C|\n",
            "|5001712|            -7|     C|\n",
            "|5001712|            -1|     C|\n",
            "+-------+--------------+------+\n",
            "only showing top 20 rows\n",
            "\n"
          ]
        }
      ]
    },
    {
      "cell_type": "code",
      "source": [
        "credit_df.select('STATUS').distinct().collect()\n"
      ],
      "metadata": {
        "colab": {
          "base_uri": "https://localhost:8080/"
        },
        "id": "FaYFPtFiXsAZ",
        "outputId": "6f0bc243-98b4-4a3c-dad6-e2c523c3a123"
      },
      "execution_count": null,
      "outputs": [
        {
          "output_type": "execute_result",
          "data": {
            "text/plain": [
              "[Row(STATUS='3'),\n",
              " Row(STATUS='0'),\n",
              " Row(STATUS='5'),\n",
              " Row(STATUS='C'),\n",
              " Row(STATUS='X'),\n",
              " Row(STATUS='1'),\n",
              " Row(STATUS='4'),\n",
              " Row(STATUS='2')]"
            ]
          },
          "metadata": {},
          "execution_count": 250
        }
      ]
    },
    {
      "cell_type": "code",
      "source": [
        "from pyspark.sql.functions import lit\n",
        "from pyspark.sql.functions import when\n",
        "import pyspark.sql.functions as f"
      ],
      "metadata": {
        "id": "EVzO4ndtawJ5"
      },
      "execution_count": null,
      "outputs": []
    },
    {
      "cell_type": "code",
      "source": [
        "#'C' : 'Good', 'X' : 'Good','0' : 'Bad', '1' : 'Bad', '2' : 'Bad','3' : 'Bad','4' : 'Bad','5' : 'Bad'"
      ],
      "metadata": {
        "id": "zdKBLtDCdGVH"
      },
      "execution_count": null,
      "outputs": []
    },
    {
      "cell_type": "code",
      "source": [
        "# Creating new column from Status column\n",
        "\n",
        "df_credit = df_credit.withColumn(\"STATUS_BINARY\", when((df_credit.STATUS == 'C'), lit(1)) \\\n",
        "     .when((df_credit.STATUS == 'X'), lit(1)) \\\n",
        "     .otherwise(lit(0)))"
      ],
      "metadata": {
        "id": "_2AlsqdbpkHy"
      },
      "execution_count": null,
      "outputs": []
    },
    {
      "cell_type": "code",
      "source": [
        "df_credit.show()"
      ],
      "metadata": {
        "colab": {
          "base_uri": "https://localhost:8080/"
        },
        "id": "5EtZ6tLnp9Sv",
        "outputId": "3af5b431-77a9-49a0-c89b-5e9c5e29bbfc"
      },
      "execution_count": null,
      "outputs": [
        {
          "output_type": "stream",
          "name": "stdout",
          "text": [
            "+-------+--------------+------+-------------+\n",
            "|     ID|MONTHS_BALANCE|STATUS|STATUS_BINARY|\n",
            "+-------+--------------+------+-------------+\n",
            "|5001711|             0|     X|            1|\n",
            "|5001711|            -1|     0|            0|\n",
            "|5001711|            -2|     0|            0|\n",
            "|5001711|            -3|     0|            0|\n",
            "|5001712|             0|     C|            1|\n",
            "|5001712|            -1|     C|            1|\n",
            "|5001712|            -2|     C|            1|\n",
            "|5001712|            -3|     C|            1|\n",
            "|5001712|            -4|     C|            1|\n",
            "|5001712|            -5|     C|            1|\n",
            "|5001712|            -6|     C|            1|\n",
            "|5001712|            -7|     C|            1|\n",
            "|5001712|            -8|     C|            1|\n",
            "|5001712|            -9|     0|            0|\n",
            "|5001712|           -10|     0|            0|\n",
            "|5001712|           -11|     0|            0|\n",
            "|5001712|           -12|     0|            0|\n",
            "|5001712|           -13|     0|            0|\n",
            "|5001712|           -14|     0|            0|\n",
            "|5001712|           -15|     0|            0|\n",
            "+-------+--------------+------+-------------+\n",
            "only showing top 20 rows\n",
            "\n"
          ]
        }
      ]
    },
    {
      "cell_type": "code",
      "source": [
        "df_credit = df_credit.select('ID','STATUS_BINARY')"
      ],
      "metadata": {
        "id": "Z_MkOx_5sLEF"
      },
      "execution_count": null,
      "outputs": []
    },
    {
      "cell_type": "code",
      "source": [
        "#Aggregating Groupby id and total count of Binary status\n",
        "\n",
        "df_new_credit = df_credit.select(\"ID\",\"STATUS_BINARY\").groupBy(\"ID\")\\\n",
        ".agg(f.count(\"STATUS_BINARY\").alias(\"count_total\"),f.sum(\"STATUS_BINARY\").alias(\"Status_Good\")).sort(\"ID\")"
      ],
      "metadata": {
        "id": "VJhBlYM3VCW3"
      },
      "execution_count": null,
      "outputs": []
    },
    {
      "cell_type": "code",
      "source": [
        "df_new_credit.show()"
      ],
      "metadata": {
        "id": "2P85AP95b8Tm",
        "colab": {
          "base_uri": "https://localhost:8080/"
        },
        "outputId": "855c2750-7ea7-45ef-e445-4ff68ce57a23"
      },
      "execution_count": null,
      "outputs": [
        {
          "output_type": "stream",
          "name": "stdout",
          "text": [
            "+-------+-----------+-----------+\n",
            "|     ID|count_total|Status_Good|\n",
            "+-------+-----------+-----------+\n",
            "|5001711|          4|          1|\n",
            "|5001712|         19|          9|\n",
            "|5001713|         22|         22|\n",
            "|5001714|         15|         15|\n",
            "|5001715|         60|         60|\n",
            "|5001717|         22|          5|\n",
            "|5001718|         39|         13|\n",
            "|5001719|         43|         41|\n",
            "|5001720|         36|          0|\n",
            "|5001723|         31|         23|\n",
            "|5001724|         31|         31|\n",
            "|5001725|          8|          1|\n",
            "|5001726|         39|         33|\n",
            "|5001728|          1|          0|\n",
            "|5001729|          7|          1|\n",
            "|5001730|         61|         56|\n",
            "|5001731|         11|         11|\n",
            "|5001732|         36|         36|\n",
            "|5001733|         11|         11|\n",
            "|5001734|          3|          0|\n",
            "+-------+-----------+-----------+\n",
            "only showing top 20 rows\n",
            "\n"
          ]
        }
      ]
    },
    {
      "cell_type": "code",
      "source": [
        "# defining the rate of good debts for each user\n",
        "\n",
        "df_new_credit = df_new_credit.withColumn(\"Status_Bad\",(df_new_credit.count_total - df_new_credit.Status_Good))\n",
        "df_new_credit = df_new_credit.withColumn(\"Rate\", ((df_new_credit.Status_Good + 0.1)/(df_new_credit.Status_Bad + 0.1)))\n",
        "#df_new_credit.show()"
      ],
      "metadata": {
        "id": "-mT8u5CZYVj3"
      },
      "execution_count": null,
      "outputs": []
    },
    {
      "cell_type": "code",
      "source": [
        "df_new_credit = df_new_credit\\\n",
        ".withColumn(\"Credit_Score\",f.round(df_new_credit.Status_Good/df_new_credit.count_total))\n",
        "df_new_credit.show()"
      ],
      "metadata": {
        "id": "Wvaaeg0leeDe",
        "colab": {
          "base_uri": "https://localhost:8080/"
        },
        "outputId": "85e0241f-346b-4618-d1ea-87d7042f8e2c"
      },
      "execution_count": null,
      "outputs": [
        {
          "output_type": "stream",
          "name": "stdout",
          "text": [
            "+-------+-----------+-----------+----------+--------------------+------------+\n",
            "|     ID|count_total|Status_Good|Status_Bad|                Rate|Credit_Score|\n",
            "+-------+-----------+-----------+----------+--------------------+------------+\n",
            "|5001711|          4|          1|         3|  0.3548387096774194|         0.0|\n",
            "|5001712|         19|          9|        10|   0.900990099009901|         0.0|\n",
            "|5001713|         22|         22|         0|               221.0|         1.0|\n",
            "|5001714|         15|         15|         0|               151.0|         1.0|\n",
            "|5001715|         60|         60|         0|               601.0|         1.0|\n",
            "|5001717|         22|          5|        17| 0.29824561403508765|         0.0|\n",
            "|5001718|         39|         13|        26|  0.5019157088122604|         0.0|\n",
            "|5001719|         43|         41|         2|  19.571428571428573|         1.0|\n",
            "|5001720|         36|          0|        36|0.002770083102493075|         0.0|\n",
            "|5001723|         31|         23|         8|   2.851851851851852|         1.0|\n",
            "|5001724|         31|         31|         0|               311.0|         1.0|\n",
            "|5001725|          8|          1|         7| 0.15492957746478875|         0.0|\n",
            "|5001726|         39|         33|         6|   5.426229508196722|         1.0|\n",
            "|5001728|          1|          0|         1| 0.09090909090909091|         0.0|\n",
            "|5001729|          7|          1|         6| 0.18032786885245905|         0.0|\n",
            "|5001730|         61|         56|         5|  11.000000000000002|         1.0|\n",
            "|5001731|         11|         11|         0|  110.99999999999999|         1.0|\n",
            "|5001732|         36|         36|         0|               361.0|         1.0|\n",
            "|5001733|         11|         11|         0|  110.99999999999999|         1.0|\n",
            "|5001734|          3|          0|         3| 0.03225806451612903|         0.0|\n",
            "+-------+-----------+-----------+----------+--------------------+------------+\n",
            "only showing top 20 rows\n",
            "\n"
          ]
        }
      ]
    },
    {
      "cell_type": "code",
      "source": [
        "df_new_credit = df_new_credit.select(\"ID\",\"Rate\",\"Credit_Score\")"
      ],
      "metadata": {
        "id": "fStJKE_ewLgj"
      },
      "execution_count": null,
      "outputs": []
    },
    {
      "cell_type": "code",
      "source": [
        "df_new_credit.show()"
      ],
      "metadata": {
        "id": "HAq1dWBZYTj4",
        "colab": {
          "base_uri": "https://localhost:8080/"
        },
        "outputId": "c785ffb3-6dae-427e-abb2-a05ffeb256ea"
      },
      "execution_count": null,
      "outputs": [
        {
          "output_type": "stream",
          "name": "stdout",
          "text": [
            "+-------+--------------------+------------+\n",
            "|     ID|                Rate|Credit_Score|\n",
            "+-------+--------------------+------------+\n",
            "|5001711|  0.3548387096774194|         0.0|\n",
            "|5001712|   0.900990099009901|         0.0|\n",
            "|5001713|               221.0|         1.0|\n",
            "|5001714|               151.0|         1.0|\n",
            "|5001715|               601.0|         1.0|\n",
            "|5001717| 0.29824561403508765|         0.0|\n",
            "|5001718|  0.5019157088122604|         0.0|\n",
            "|5001719|  19.571428571428573|         1.0|\n",
            "|5001720|0.002770083102493075|         0.0|\n",
            "|5001723|   2.851851851851852|         1.0|\n",
            "|5001724|               311.0|         1.0|\n",
            "|5001725| 0.15492957746478875|         0.0|\n",
            "|5001726|   5.426229508196722|         1.0|\n",
            "|5001728| 0.09090909090909091|         0.0|\n",
            "|5001729| 0.18032786885245905|         0.0|\n",
            "|5001730|  11.000000000000002|         1.0|\n",
            "|5001731|  110.99999999999999|         1.0|\n",
            "|5001732|               361.0|         1.0|\n",
            "|5001733|  110.99999999999999|         1.0|\n",
            "|5001734| 0.03225806451612903|         0.0|\n",
            "+-------+--------------------+------------+\n",
            "only showing top 20 rows\n",
            "\n"
          ]
        }
      ]
    },
    {
      "cell_type": "code",
      "source": [
        "df_final = df_application.join(df_new_credit, \"id\")\n",
        "\n",
        "#Renaming columns\n",
        "columns = ['ID', 'Gender', 'Car', 'Realty', 'Children', 'Income', 'Income_Type','Education_Type', 'Family_Status', 'Housing_Type',  'Age'\\\n",
        "           , 'Years_Experience', 'Mobile_Phone', 'Work_Phone','Phone', 'Email', 'Job_Title', 'Total_Family' , 'Rate','Status']\n",
        "df_final = df_final.toDF(*columns)"
      ],
      "metadata": {
        "id": "Q5WVgN0kzOar"
      },
      "execution_count": null,
      "outputs": []
    },
    {
      "cell_type": "code",
      "source": [
        "df_final.show()"
      ],
      "metadata": {
        "id": "PLXPLuq2GiYi",
        "colab": {
          "base_uri": "https://localhost:8080/"
        },
        "outputId": "086c5479-8212-4fad-8594-c8a7bf93066b"
      },
      "execution_count": null,
      "outputs": [
        {
          "output_type": "stream",
          "name": "stdout",
          "text": [
            "+-------+------+---+------+--------+--------+--------------------+--------------------+--------------------+-----------------+------+----------------+------------+----------+-----+-----+--------------------+------------+--------------------+------+\n",
            "|     ID|Gender|Car|Realty|Children|  Income|         Income_Type|      Education_Type|       Family_Status|     Housing_Type|   Age|Years_Experience|Mobile_Phone|Work_Phone|Phone|Email|           Job_Title|Total_Family|                Rate|Status|\n",
            "+-------+------+---+------+--------+--------+--------------------+--------------------+--------------------+-----------------+------+----------------+------------+----------+-----+-----+--------------------+------------+--------------------+------+\n",
            "|5009355|     F|  N|     N|       0|135000.0|Commercial associate|Secondary / secon...|             Married|House / apartment|-19692|           -5273|           1|         1|    1|    0|            Laborers|         2.0|0.043824701195219126|   0.0|\n",
            "|5009429|     M|  N|     N|       0|198000.0|             Working|Secondary / secon...|Single / not married|     With parents| -8657|           -1164|           1|         1|    0|    0|            Laborers|         1.0| 0.03225806451612903|   0.0|\n",
            "|5010070|     F|  N|     Y|       0|279000.0|       State servant|    Higher education|Single / not married|House / apartment|-11091|            -617|           1|         0|    0|    1|            Managers|         1.0|   1.196078431372549|   1.0|\n",
            "|5010236|     M|  Y|     Y|       0|225000.0|             Working|Secondary / secon...|             Married|House / apartment|-16507|           -4331|           1|         0|    0|    0|             Drivers|         2.0|  1.1408450704225352|   1.0|\n",
            "|5010511|     F|  Y|     Y|       1|157500.0|Commercial associate|Secondary / secon...|             Married|House / apartment|-13830|           -4239|           1|         0|    0|    0|            Laborers|         3.0| 0.20792079207920794|   0.0|\n",
            "|5011029|     F|  N|     Y|       0|292500.0|             Working|Secondary / secon...|      Civil marriage|House / apartment|-16588|           -1013|           1|         0|    0|    1|         Sales staff|         2.0|  1.6557377049180328|   1.0|\n",
            "|5018442|     F|  N|     Y|       0|202500.0|             Working|Secondary / secon...|               Widow|House / apartment|-20227|           -5416|           1|         0|    0|    0|          Core staff|         1.0|               261.0|   1.0|\n",
            "|5021819|     F|  Y|     Y|       1| 67500.0|             Working|Secondary / secon...|             Married|House / apartment|-11454|           -1678|           1|         0|    1|    1|       Cooking staff|         3.0|0.002624671916010...|   0.0|\n",
            "|5021944|     F|  Y|     Y|       0|445500.0|Commercial associate|    Higher education|             Married|House / apartment|-12477|            -456|           1|         0|    0|    0|            Managers|         2.0| 0.13907284768211922|   0.0|\n",
            "|5021994|     M|  Y|     Y|       0|135000.0|             Working|    Higher education|             Married|House / apartment| -9303|            -852|           1|         0|    0|    0|         Sales staff|         2.0|0.019607843137254905|   0.0|\n",
            "|5022285|     F|  N|     N|       1|157500.0|             Working|Secondary / secon...|      Civil marriage|House / apartment|-15100|           -3500|           1|         0|    0|    0|       Cooking staff|         3.0|    4.08641975308642|   1.0|\n",
            "|5022944|     F|  Y|     N|       0|202500.0|Commercial associate|   Incomplete higher|           Separated|House / apartment|-14096|           -1344|           1|         0|    1|    1|         Accountants|         1.0|  0.7560975609756099|   0.0|\n",
            "|5023011|     M|  Y|     N|       0|360000.0|             Working|Secondary / secon...|             Married|House / apartment|-11440|           -2457|           1|         0|    0|    0|Private service s...|         2.0|  5.0983606557377055|   1.0|\n",
            "|5023675|     F|  N|     Y|       0| 90000.0|             Working|Secondary / secon...|             Married|House / apartment|-16274|           -1513|           1|         0|    0|    0|       Cooking staff|         2.0|  0.3548387096774194|   0.0|\n",
            "|5024412|     M|  Y|     N|       0|270000.0|             Working|    Higher education|             Married|House / apartment|-18582|           -5084|           1|         0|    0|    0|            Managers|         2.0|   4.809523809523809|   1.0|\n",
            "|5024771|     F|  Y|     Y|       0|202500.0|             Working|Secondary / secon...|Single / not married|House / apartment| -8568|           -1068|           1|         0|    0|    0|         Sales staff|         1.0| 0.14893617021276598|   0.0|\n",
            "|5024891|     M|  Y|     N|       0| 99000.0|             Working|Secondary / secon...|      Civil marriage|House / apartment|-21658|           -3471|           1|         0|    1|    0|            Laborers|         2.0|  1.9677419354838708|   1.0|\n",
            "|5025981|     M|  N|     N|       1|189000.0|             Working|Secondary / secon...|             Married|House / apartment|-11700|            -404|           1|         0|    0|    0|            Managers|         3.0|0.004975124378109453|   0.0|\n",
            "|5026273|     F|  N|     Y|       2|112500.0|             Working|Secondary / secon...|             Married|House / apartment|-13935|            -560|           1|         1|    1|    0|            Laborers|         4.0|0.047619047619047616|   0.0|\n",
            "|5028624|     F|  Y|     Y|       0|135000.0|Commercial associate|Secondary / secon...|             Married|House / apartment|-14221|           -1542|           1|         0|    0|    0|Private service s...|         2.0| 0.01234567901234568|   0.0|\n",
            "+-------+------+---+------+--------+--------+--------------------+--------------------+--------------------+-----------------+------+----------------+------------+----------+-----+-----+--------------------+------------+--------------------+------+\n",
            "only showing top 20 rows\n",
            "\n"
          ]
        }
      ]
    },
    {
      "cell_type": "code",
      "source": [
        "#Changing Age and Experience from negative days to years\n",
        "\n",
        "df_final=df_final.withColumn(\"Age\",df_final.Age/(-365))\n",
        "df_final=df_final.withColumn(\"Years_Experience\",df_final.Years_Experience/(-365))\n",
        "df_final.show()"
      ],
      "metadata": {
        "colab": {
          "base_uri": "https://localhost:8080/"
        },
        "id": "N3mMwpA_shrf",
        "outputId": "59828c45-298e-4c8d-ccfc-0faeac9a2ea3"
      },
      "execution_count": null,
      "outputs": [
        {
          "output_type": "stream",
          "name": "stdout",
          "text": [
            "+-------+------+---+------+--------+--------+--------------------+--------------------+--------------------+-----------------+------------------+------------------+------------+----------+-----+-----+--------------------+------------+--------------------+------+\n",
            "|     ID|Gender|Car|Realty|Children|  Income|         Income_Type|      Education_Type|       Family_Status|     Housing_Type|               Age|  Years_Experience|Mobile_Phone|Work_Phone|Phone|Email|           Job_Title|Total_Family|                Rate|Status|\n",
            "+-------+------+---+------+--------+--------+--------------------+--------------------+--------------------+-----------------+------------------+------------------+------------+----------+-----+-----+--------------------+------------+--------------------+------+\n",
            "|5009355|     F|  N|     N|       0|135000.0|Commercial associate|Secondary / secon...|             Married|House / apartment| 53.95068493150685|14.446575342465753|           1|         1|    1|    0|            Laborers|         2.0|0.043824701195219126|   0.0|\n",
            "|5009429|     M|  N|     N|       0|198000.0|             Working|Secondary / secon...|Single / not married|     With parents| 23.71780821917808|3.1890410958904107|           1|         1|    0|    0|            Laborers|         1.0| 0.03225806451612903|   0.0|\n",
            "|5010070|     F|  N|     Y|       0|279000.0|       State servant|    Higher education|Single / not married|House / apartment|30.386301369863013|1.6904109589041096|           1|         0|    0|    1|            Managers|         1.0|   1.196078431372549|   1.0|\n",
            "|5010236|     M|  Y|     Y|       0|225000.0|             Working|Secondary / secon...|             Married|House / apartment|45.224657534246575|11.865753424657534|           1|         0|    0|    0|             Drivers|         2.0|  1.1408450704225352|   1.0|\n",
            "|5010511|     F|  Y|     Y|       1|157500.0|Commercial associate|Secondary / secon...|             Married|House / apartment| 37.89041095890411|11.613698630136986|           1|         0|    0|    0|            Laborers|         3.0| 0.20792079207920794|   0.0|\n",
            "|5011029|     F|  N|     Y|       0|292500.0|             Working|Secondary / secon...|      Civil marriage|House / apartment|45.446575342465756|2.7753424657534245|           1|         0|    0|    1|         Sales staff|         2.0|  1.6557377049180328|   1.0|\n",
            "|5018442|     F|  N|     Y|       0|202500.0|             Working|Secondary / secon...|               Widow|House / apartment|55.416438356164385|14.838356164383562|           1|         0|    0|    0|          Core staff|         1.0|               261.0|   1.0|\n",
            "|5021819|     F|  Y|     Y|       1| 67500.0|             Working|Secondary / secon...|             Married|House / apartment| 31.38082191780822| 4.597260273972603|           1|         0|    1|    1|       Cooking staff|         3.0|0.002624671916010...|   0.0|\n",
            "|5021944|     F|  Y|     Y|       0|445500.0|Commercial associate|    Higher education|             Married|House / apartment| 34.18356164383562|1.2493150684931507|           1|         0|    0|    0|            Managers|         2.0| 0.13907284768211922|   0.0|\n",
            "|5021994|     M|  Y|     Y|       0|135000.0|             Working|    Higher education|             Married|House / apartment|25.487671232876714| 2.334246575342466|           1|         0|    0|    0|         Sales staff|         2.0|0.019607843137254905|   0.0|\n",
            "|5022285|     F|  N|     N|       1|157500.0|             Working|Secondary / secon...|      Civil marriage|House / apartment| 41.36986301369863|  9.58904109589041|           1|         0|    0|    0|       Cooking staff|         3.0|    4.08641975308642|   1.0|\n",
            "|5022944|     F|  Y|     N|       0|202500.0|Commercial associate|   Incomplete higher|           Separated|House / apartment| 38.61917808219178| 3.682191780821918|           1|         0|    1|    1|         Accountants|         1.0|  0.7560975609756099|   0.0|\n",
            "|5023011|     M|  Y|     N|       0|360000.0|             Working|Secondary / secon...|             Married|House / apartment| 31.34246575342466|6.7315068493150685|           1|         0|    0|    0|Private service s...|         2.0|  5.0983606557377055|   1.0|\n",
            "|5023675|     F|  N|     Y|       0| 90000.0|             Working|Secondary / secon...|             Married|House / apartment|44.586301369863016| 4.145205479452055|           1|         0|    0|    0|       Cooking staff|         2.0|  0.3548387096774194|   0.0|\n",
            "|5024412|     M|  Y|     N|       0|270000.0|             Working|    Higher education|             Married|House / apartment| 50.90958904109589| 13.92876712328767|           1|         0|    0|    0|            Managers|         2.0|   4.809523809523809|   1.0|\n",
            "|5024771|     F|  Y|     Y|       0|202500.0|             Working|Secondary / secon...|Single / not married|House / apartment|23.473972602739725| 2.926027397260274|           1|         0|    0|    0|         Sales staff|         1.0| 0.14893617021276598|   0.0|\n",
            "|5024891|     M|  Y|     N|       0| 99000.0|             Working|Secondary / secon...|      Civil marriage|House / apartment| 59.33698630136986| 9.509589041095891|           1|         0|    1|    0|            Laborers|         2.0|  1.9677419354838708|   1.0|\n",
            "|5025981|     M|  N|     N|       1|189000.0|             Working|Secondary / secon...|             Married|House / apartment|32.054794520547944| 1.106849315068493|           1|         0|    0|    0|            Managers|         3.0|0.004975124378109453|   0.0|\n",
            "|5026273|     F|  N|     Y|       2|112500.0|             Working|Secondary / secon...|             Married|House / apartment|38.178082191780824|1.5342465753424657|           1|         1|    1|    0|            Laborers|         4.0|0.047619047619047616|   0.0|\n",
            "|5028624|     F|  Y|     Y|       0|135000.0|Commercial associate|Secondary / secon...|             Married|House / apartment|38.961643835616435|4.2246575342465755|           1|         0|    0|    0|Private service s...|         2.0| 0.01234567901234568|   0.0|\n",
            "+-------+------+---+------+--------+--------+--------------------+--------------------+--------------------+-----------------+------------------+------------------+------------+----------+-----+-----+--------------------+------------+--------------------+------+\n",
            "only showing top 20 rows\n",
            "\n"
          ]
        }
      ]
    },
    {
      "cell_type": "markdown",
      "source": [
        "# EDA\n"
      ],
      "metadata": {
        "id": "qgGd2KU6Quvm"
      }
    },
    {
      "cell_type": "code",
      "source": [
        "Pdf_final=df_final.toPandas()"
      ],
      "metadata": {
        "id": "0eh_jnOn34IC"
      },
      "execution_count": null,
      "outputs": []
    },
    {
      "cell_type": "code",
      "source": [
        "Pdf_final.groupby('Status')['Status'].count().plot(kind='pie', y='Status',figsize=(5, 5) )"
      ],
      "metadata": {
        "id": "6RfB8Q_sRLeX",
        "colab": {
          "base_uri": "https://localhost:8080/",
          "height": 321
        },
        "outputId": "8574797b-5c09-4084-bd89-0c39ffd38dbb"
      },
      "execution_count": null,
      "outputs": [
        {
          "output_type": "execute_result",
          "data": {
            "text/plain": [
              "<matplotlib.axes._subplots.AxesSubplot at 0x7fcde40708d0>"
            ]
          },
          "metadata": {},
          "execution_count": 266
        },
        {
          "output_type": "display_data",
          "data": {
            "image/png": "[encoded data removed]",
            "text/plain": [
              "<Figure size 360x360 with 1 Axes>"
            ]
          },
          "metadata": {}
        }
      ]
    },
    {
      "cell_type": "code",
      "source": [
        "Pdf_final.groupby('Gender')['Gender'].count().plot(kind='pie', y='Gender', figsize=(5, 5))"
      ],
      "metadata": {
        "colab": {
          "base_uri": "https://localhost:8080/",
          "height": 321
        },
        "id": "32zrkOlbkv5J",
        "outputId": "e74ee076-2f47-4b3a-eded-40d06fd74501"
      },
      "execution_count": null,
      "outputs": [
        {
          "output_type": "execute_result",
          "data": {
            "text/plain": [
              "<matplotlib.axes._subplots.AxesSubplot at 0x7fcde4bbdb50>"
            ]
          },
          "metadata": {},
          "execution_count": 286
        },
        {
          "output_type": "display_data",
          "data": {
            "image/png": "[encoded data removed]",
            "text/plain": [
              "<Figure size 360x360 with 1 Axes>"
            ]
          },
          "metadata": {}
        }
      ]
    },
    {
      "cell_type": "code",
      "source": [
        "Pdf_final.groupby('Income_Type')['Rate'].mean().plot(kind = 'bar')"
      ],
      "metadata": {
        "colab": {
          "base_uri": "https://localhost:8080/",
          "height": 399
        },
        "id": "8OVxKIdQuFvW",
        "outputId": "daf210f8-72f4-42fc-a979-2e5146fec3fc"
      },
      "execution_count": null,
      "outputs": [
        {
          "output_type": "execute_result",
          "data": {
            "text/plain": [
              "<matplotlib.axes._subplots.AxesSubplot at 0x7fcde4f632d0>"
            ]
          },
          "metadata": {},
          "execution_count": 268
        },
        {
          "output_type": "display_data",
          "data": {
            "image/png": "[encoded data removed]",
            "text/plain": [
              "<Figure size 432x288 with 1 Axes>"
            ]
          },
          "metadata": {
            "needs_background": "light"
          }
        }
      ]
    },
    {
      "cell_type": "code",
      "source": [
        "Pdf_final.groupby('Family_Status')['Rate'].mean().plot(kind = 'bar')"
      ],
      "metadata": {
        "colab": {
          "base_uri": "https://localhost:8080/",
          "height": 387
        },
        "id": "Y84_X8cCuRIF",
        "outputId": "dda40ca2-07ab-46f2-cd9b-d9d372f717a6"
      },
      "execution_count": null,
      "outputs": [
        {
          "output_type": "execute_result",
          "data": {
            "text/plain": [
              "<matplotlib.axes._subplots.AxesSubplot at 0x7fcde5e1e4d0>"
            ]
          },
          "metadata": {},
          "execution_count": 269
        },
        {
          "output_type": "display_data",
          "data": {
            "image/png": "[encoded data removed]",
            "text/plain": [
              "<Figure size 432x288 with 1 Axes>"
            ]
          },
          "metadata": {
            "needs_background": "light"
          }
        }
      ]
    },
    {
      "cell_type": "code",
      "source": [
        "Pdf_final.groupby('Car')['Rate'].mean().plot(kind = 'bar')"
      ],
      "metadata": {
        "colab": {
          "base_uri": "https://localhost:8080/",
          "height": 295
        },
        "id": "uC6FjP-Mz8qZ",
        "outputId": "2fa902b5-809c-46c0-de58-c98664b2648c"
      },
      "execution_count": null,
      "outputs": [
        {
          "output_type": "execute_result",
          "data": {
            "text/plain": [
              "<matplotlib.axes._subplots.AxesSubplot at 0x7fcde60ce350>"
            ]
          },
          "metadata": {},
          "execution_count": 270
        },
        {
          "output_type": "display_data",
          "data": {
            "image/png": "[encoded data removed]",
            "text/plain": [
              "<Figure size 432x288 with 1 Axes>"
            ]
          },
          "metadata": {
            "needs_background": "light"
          }
        }
      ]
    },
    {
      "cell_type": "code",
      "source": [
        "Pdf_final.hist(column='Age')"
      ],
      "metadata": {
        "colab": {
          "base_uri": "https://localhost:8080/",
          "height": 316
        },
        "id": "OfPzHec90wv-",
        "outputId": "718ce115-e4de-471f-8ae7-f0ee2f2dd13b"
      },
      "execution_count": null,
      "outputs": [
        {
          "output_type": "execute_result",
          "data": {
            "text/plain": [
              "array([[<matplotlib.axes._subplots.AxesSubplot object at 0x7fcde415b490>]],\n",
              "      dtype=object)"
            ]
          },
          "metadata": {},
          "execution_count": 271
        },
        {
          "output_type": "display_data",
          "data": {
            "image/png": "[encoded data removed]",
            "text/plain": [
              "<Figure size 432x288 with 1 Axes>"
            ]
          },
          "metadata": {
            "needs_background": "light"
          }
        }
      ]
    },
    {
      "cell_type": "code",
      "source": [
        "Pdf_final.hist(column='Income')"
      ],
      "metadata": {
        "colab": {
          "base_uri": "https://localhost:8080/",
          "height": 329
        },
        "id": "wqFDVXE907r2",
        "outputId": "6ac42a0f-feaa-4f7f-a067-7f0e127626aa"
      },
      "execution_count": null,
      "outputs": [
        {
          "output_type": "execute_result",
          "data": {
            "text/plain": [
              "array([[<matplotlib.axes._subplots.AxesSubplot object at 0x7fcde44ee450>]],\n",
              "      dtype=object)"
            ]
          },
          "metadata": {},
          "execution_count": 272
        },
        {
          "output_type": "display_data",
          "data": {
            "image/png": "[encoded data removed]",
            "text/plain": [
              "<Figure size 432x288 with 1 Axes>"
            ]
          },
          "metadata": {
            "needs_background": "light"
          }
        }
      ]
    },
    {
      "cell_type": "code",
      "source": [
        "corr = Pdf_final.corr()\n",
        "plt.figure(figsize = (10,10))\n",
        "sns.heatmap(corr, cmap=\"Blues\", annot=True)"
      ],
      "metadata": {
        "colab": {
          "base_uri": "https://localhost:8080/",
          "height": 690
        },
        "id": "nSgLM4n11Cmg",
        "outputId": "8eda1d55-73ce-42cb-d276-2f9ab6c98591"
      },
      "execution_count": null,
      "outputs": [
        {
          "output_type": "execute_result",
          "data": {
            "text/plain": [
              "<matplotlib.axes._subplots.AxesSubplot at 0x7fcde4f7b810>"
            ]
          },
          "metadata": {},
          "execution_count": 273
        },
        {
          "output_type": "display_data",
          "data": {
            "image/png": "[encoded data removed]",
            "text/plain": [
              "<Figure size 720x720 with 2 Axes>"
            ]
          },
          "metadata": {
            "needs_background": "light"
          }
        }
      ]
    },
    {
      "cell_type": "markdown",
      "source": [
        "Based on Corr Heatmap\n",
        "\n",
        "We will remove children (beacase high correlation with total_family)\n",
        "\n",
        "We will remove Mobile_phone"
      ],
      "metadata": {
        "id": "ZpYU7W8v1jZc"
      }
    },
    {
      "cell_type": "code",
      "source": [
        "Pdf_final.drop(['Children','Mobile_Phone'],axis=1,inplace=True)\n",
        "\n",
        "#Also droping from the pyspark dataframe\n",
        "df_final.drop(\"Children\", \"Mobile_Phone\")"
      ],
      "metadata": {
        "colab": {
          "base_uri": "https://localhost:8080/"
        },
        "id": "dqjNCJTu1YDf",
        "outputId": "e9643395-6059-4a2e-9777-4854ccf4b273"
      },
      "execution_count": null,
      "outputs": [
        {
          "output_type": "execute_result",
          "data": {
            "text/plain": [
              "DataFrame[ID: int, Gender: string, Car: string, Realty: string, Income: double, Income_Type: string, Education_Type: string, Family_Status: string, Housing_Type: string, Age: double, Years_Experience: double, Work_Phone: int, Phone: int, Email: int, Job_Title: string, Total_Family: double, Rate: double, Status: double]"
            ]
          },
          "metadata": {},
          "execution_count": 274
        }
      ]
    },
    {
      "cell_type": "code",
      "source": [
        "Pdf_final.info()"
      ],
      "metadata": {
        "colab": {
          "base_uri": "https://localhost:8080/"
        },
        "id": "hFFkLOcE2Bfr",
        "outputId": "dad77702-5463-4214-8274-80fc7d40fbb6"
      },
      "execution_count": null,
      "outputs": [
        {
          "output_type": "stream",
          "name": "stdout",
          "text": [
            "<class 'pandas.core.frame.DataFrame'>\n",
            "RangeIndex: 25134 entries, 0 to 25133\n",
            "Data columns (total 18 columns):\n",
            " #   Column            Non-Null Count  Dtype  \n",
            "---  ------            --------------  -----  \n",
            " 0   ID                25134 non-null  int32  \n",
            " 1   Gender            25134 non-null  object \n",
            " 2   Car               25134 non-null  object \n",
            " 3   Realty            25134 non-null  object \n",
            " 4   Income            25134 non-null  float64\n",
            " 5   Income_Type       25134 non-null  object \n",
            " 6   Education_Type    25134 non-null  object \n",
            " 7   Family_Status     25134 non-null  object \n",
            " 8   Housing_Type      25134 non-null  object \n",
            " 9   Age               25134 non-null  float64\n",
            " 10  Years_Experience  25134 non-null  float64\n",
            " 11  Work_Phone        25134 non-null  int32  \n",
            " 12  Phone             25134 non-null  int32  \n",
            " 13  Email             25134 non-null  int32  \n",
            " 14  Job_Title         25134 non-null  object \n",
            " 15  Total_Family      25134 non-null  float64\n",
            " 16  Rate              25134 non-null  float64\n",
            " 17  Status            25134 non-null  float64\n",
            "dtypes: float64(6), int32(4), object(8)\n",
            "memory usage: 3.1+ MB\n"
          ]
        }
      ]
    },
    {
      "cell_type": "code",
      "source": [
        "corr = Pdf_final.drop('ID',axis=1).corr()\n",
        "plt.figure(figsize = (10,10))\n",
        "sns.heatmap(corr, cmap=\"Blues\", annot=True)"
      ],
      "metadata": {
        "colab": {
          "base_uri": "https://localhost:8080/",
          "height": 690
        },
        "id": "WLyXS1or2Eq8",
        "outputId": "a8108fd7-c5e3-42c9-a4ab-d9aa1044c6c7"
      },
      "execution_count": null,
      "outputs": [
        {
          "output_type": "execute_result",
          "data": {
            "text/plain": [
              "<matplotlib.axes._subplots.AxesSubplot at 0x7fcde5d2f2d0>"
            ]
          },
          "metadata": {},
          "execution_count": 276
        },
        {
          "output_type": "display_data",
          "data": {
            "image/png": "[encoded data removed]",
            "text/plain": [
              "<Figure size 720x720 with 2 Axes>"
            ]
          },
          "metadata": {
            "needs_background": "light"
          }
        }
      ]
    },
    {
      "cell_type": "markdown",
      "source": [
        "# Modelling"
      ],
      "metadata": {
        "id": "ETAc7sHmx0Ud"
      }
    },
    {
      "cell_type": "code",
      "source": [
        "from pyspark.ml.feature import OneHotEncoder,StringIndexer, VectorAssembler"
      ],
      "metadata": {
        "id": "0fAMqr5Pyk9-"
      },
      "execution_count": null,
      "outputs": []
    },
    {
      "cell_type": "code",
      "source": [
        "# Handling categorical columns and encoding them\n",
        "cols = df_final.columns\n",
        "Cat_features = ['Realty', 'Gender','Car','Income_Type','Education_Type','Family_Status','Housing_Type','Job_Title']\n",
        "stages = []\n",
        "\n",
        "for col in Cat_features:\n",
        "  stringIndexer = StringIndexer(inputCol = col, outputCol = col + 'Index')\n",
        "  encoder = OneHotEncoder(inputCols=[stringIndexer.getOutputCol()], outputCols=[col + \"classVec\"])\n",
        "  stages += [stringIndexer, encoder]\n"
      ],
      "metadata": {
        "id": "38ka9NqgvfhH"
      },
      "execution_count": null,
      "outputs": []
    },
    {
      "cell_type": "code",
      "source": [
        "label_stringIdx = StringIndexer(inputCol = 'Status', outputCol = 'label')\n",
        "stages += [label_stringIdx]"
      ],
      "metadata": {
        "id": "BSNQXXZ8z_Hz"
      },
      "execution_count": null,
      "outputs": []
    },
    {
      "cell_type": "code",
      "source": [
        "numericCols = ['Income', 'Age', 'Years_Experience', 'Work_Phone', 'Phone', 'Email','Total_Family','Rate']\n",
        "assemblerInputs = [c + \"classVec\" for c in Cat_features] + numericCols\n",
        "assembler = VectorAssembler(inputCols=assemblerInputs, outputCol=\"features\")\n",
        "stages += [assembler]"
      ],
      "metadata": {
        "id": "s-YHgeI60eRV"
      },
      "execution_count": null,
      "outputs": []
    },
    {
      "cell_type": "code",
      "source": [
        "#creating pipeline\n",
        "\n",
        "from pyspark.ml import Pipeline\n",
        "\n",
        "pipeline = Pipeline(stages = stages)\n",
        "pipelineModel = pipeline.fit(df_final)\n",
        "df_final = pipelineModel.transform(df_final)\n",
        "#selectedCols = ['label', 'features'] + cols\n",
        "#df_final = df_final.select(selectedCols)\n",
        "df_final.show()"
      ],
      "metadata": {
        "colab": {
          "base_uri": "https://localhost:8080/"
        },
        "id": "3Zh8ybRt09EW",
        "outputId": "d2049ce7-38d9-499e-db59-6a5f87df14fa"
      },
      "execution_count": null,
      "outputs": [
        {
          "output_type": "stream",
          "name": "stdout",
          "text": [
            "+-------+------+---+------+--------+--------+--------------------+--------------------+--------------------+-----------------+------------------+------------------+------------+----------+-----+-----+--------------------+------------+--------------------+------+-----------+--------------+-----------+--------------+--------+-------------+----------------+-------------------+-------------------+----------------------+------------------+---------------------+-----------------+--------------------+--------------+-----------------+-----+--------------------+\n",
            "|     ID|Gender|Car|Realty|Children|  Income|         Income_Type|      Education_Type|       Family_Status|     Housing_Type|               Age|  Years_Experience|Mobile_Phone|Work_Phone|Phone|Email|           Job_Title|Total_Family|                Rate|Status|RealtyIndex|RealtyclassVec|GenderIndex|GenderclassVec|CarIndex|  CarclassVec|Income_TypeIndex|Income_TypeclassVec|Education_TypeIndex|Education_TypeclassVec|Family_StatusIndex|Family_StatusclassVec|Housing_TypeIndex|Housing_TypeclassVec|Job_TitleIndex|Job_TitleclassVec|label|            features|\n",
            "+-------+------+---+------+--------+--------+--------------------+--------------------+--------------------+-----------------+------------------+------------------+------------+----------+-----+-----+--------------------+------------+--------------------+------+-----------+--------------+-----------+--------------+--------+-------------+----------------+-------------------+-------------------+----------------------+------------------+---------------------+-----------------+--------------------+--------------+-----------------+-----+--------------------+\n",
            "|5009355|     F|  N|     N|       0|135000.0|Commercial associate|Secondary / secon...|             Married|House / apartment| 53.95068493150685|14.446575342465753|           1|         1|    1|    0|            Laborers|         2.0|0.043824701195219126|   0.0|        1.0|     (1,[],[])|        0.0| (1,[0],[1.0])|     0.0|(1,[0],[1.0])|             1.0|      (4,[1],[1.0])|                0.0|         (4,[0],[1.0])|               0.0|        (4,[0],[1.0])|              0.0|       (5,[0],[1.0])|           0.0|   (17,[0],[1.0])|  1.0|(45,[1,2,4,7,11,1...|\n",
            "|5009429|     M|  N|     N|       0|198000.0|             Working|Secondary / secon...|Single / not married|     With parents| 23.71780821917808|3.1890410958904107|           1|         1|    0|    0|            Laborers|         1.0| 0.03225806451612903|   0.0|        1.0|     (1,[],[])|        1.0|     (1,[],[])|     0.0|(1,[0],[1.0])|             0.0|      (4,[0],[1.0])|                0.0|         (4,[0],[1.0])|               1.0|        (4,[1],[1.0])|              1.0|       (5,[1],[1.0])|           0.0|   (17,[0],[1.0])|  1.0|(45,[2,3,7,12,16,...|\n",
            "|5010070|     F|  N|     Y|       0|279000.0|       State servant|    Higher education|Single / not married|House / apartment|30.386301369863013|1.6904109589041096|           1|         0|    0|    1|            Managers|         1.0|   1.196078431372549|   1.0|        0.0| (1,[0],[1.0])|        0.0| (1,[0],[1.0])|     0.0|(1,[0],[1.0])|             2.0|      (4,[2],[1.0])|                1.0|         (4,[1],[1.0])|               1.0|        (4,[1],[1.0])|              0.0|       (5,[0],[1.0])|           3.0|   (17,[3],[1.0])|  0.0|(45,[0,1,2,5,8,12...|\n",
            "|5010236|     M|  Y|     Y|       0|225000.0|             Working|Secondary / secon...|             Married|House / apartment|45.224657534246575|11.865753424657534|           1|         0|    0|    0|             Drivers|         2.0|  1.1408450704225352|   1.0|        0.0| (1,[0],[1.0])|        1.0|     (1,[],[])|     1.0|    (1,[],[])|             0.0|      (4,[0],[1.0])|                0.0|         (4,[0],[1.0])|               0.0|        (4,[0],[1.0])|              0.0|       (5,[0],[1.0])|           4.0|   (17,[4],[1.0])|  0.0|(45,[0,3,7,11,15,...|\n",
            "|5010511|     F|  Y|     Y|       1|157500.0|Commercial associate|Secondary / secon...|             Married|House / apartment| 37.89041095890411|11.613698630136986|           1|         0|    0|    0|            Laborers|         3.0| 0.20792079207920794|   0.0|        0.0| (1,[0],[1.0])|        0.0| (1,[0],[1.0])|     1.0|    (1,[],[])|             1.0|      (4,[1],[1.0])|                0.0|         (4,[0],[1.0])|               0.0|        (4,[0],[1.0])|              0.0|       (5,[0],[1.0])|           0.0|   (17,[0],[1.0])|  1.0|(45,[0,1,4,7,11,1...|\n",
            "|5011029|     F|  N|     Y|       0|292500.0|             Working|Secondary / secon...|      Civil marriage|House / apartment|45.446575342465756|2.7753424657534245|           1|         0|    0|    1|         Sales staff|         2.0|  1.6557377049180328|   1.0|        0.0| (1,[0],[1.0])|        0.0| (1,[0],[1.0])|     0.0|(1,[0],[1.0])|             0.0|      (4,[0],[1.0])|                0.0|         (4,[0],[1.0])|               2.0|        (4,[2],[1.0])|              0.0|       (5,[0],[1.0])|           2.0|   (17,[2],[1.0])|  0.0|(45,[0,1,2,3,7,13...|\n",
            "|5018442|     F|  N|     Y|       0|202500.0|             Working|Secondary / secon...|               Widow|House / apartment|55.416438356164385|14.838356164383562|           1|         0|    0|    0|          Core staff|         1.0|               261.0|   1.0|        0.0| (1,[0],[1.0])|        0.0| (1,[0],[1.0])|     0.0|(1,[0],[1.0])|             0.0|      (4,[0],[1.0])|                0.0|         (4,[0],[1.0])|               4.0|            (4,[],[])|              0.0|       (5,[0],[1.0])|           1.0|   (17,[1],[1.0])|  0.0|(45,[0,1,2,3,7,15...|\n",
            "|5021819|     F|  Y|     Y|       1| 67500.0|             Working|Secondary / secon...|             Married|House / apartment| 31.38082191780822| 4.597260273972603|           1|         0|    1|    1|       Cooking staff|         3.0|0.002624671916010...|   0.0|        0.0| (1,[0],[1.0])|        0.0| (1,[0],[1.0])|     1.0|    (1,[],[])|             0.0|      (4,[0],[1.0])|                0.0|         (4,[0],[1.0])|               0.0|        (4,[0],[1.0])|              0.0|       (5,[0],[1.0])|           8.0|   (17,[8],[1.0])|  1.0|(45,[0,1,3,7,11,1...|\n",
            "|5021944|     F|  Y|     Y|       0|445500.0|Commercial associate|    Higher education|             Married|House / apartment| 34.18356164383562|1.2493150684931507|           1|         0|    0|    0|            Managers|         2.0| 0.13907284768211922|   0.0|        0.0| (1,[0],[1.0])|        0.0| (1,[0],[1.0])|     1.0|    (1,[],[])|             1.0|      (4,[1],[1.0])|                1.0|         (4,[1],[1.0])|               0.0|        (4,[0],[1.0])|              0.0|       (5,[0],[1.0])|           3.0|   (17,[3],[1.0])|  1.0|(45,[0,1,4,8,11,1...|\n",
            "|5021994|     M|  Y|     Y|       0|135000.0|             Working|    Higher education|             Married|House / apartment|25.487671232876714| 2.334246575342466|           1|         0|    0|    0|         Sales staff|         2.0|0.019607843137254905|   0.0|        0.0| (1,[0],[1.0])|        1.0|     (1,[],[])|     1.0|    (1,[],[])|             0.0|      (4,[0],[1.0])|                1.0|         (4,[1],[1.0])|               0.0|        (4,[0],[1.0])|              0.0|       (5,[0],[1.0])|           2.0|   (17,[2],[1.0])|  1.0|(45,[0,3,8,11,15,...|\n",
            "|5022285|     F|  N|     N|       1|157500.0|             Working|Secondary / secon...|      Civil marriage|House / apartment| 41.36986301369863|  9.58904109589041|           1|         0|    0|    0|       Cooking staff|         3.0|    4.08641975308642|   1.0|        1.0|     (1,[],[])|        0.0| (1,[0],[1.0])|     0.0|(1,[0],[1.0])|             0.0|      (4,[0],[1.0])|                0.0|         (4,[0],[1.0])|               2.0|        (4,[2],[1.0])|              0.0|       (5,[0],[1.0])|           8.0|   (17,[8],[1.0])|  0.0|(45,[1,2,3,7,13,1...|\n",
            "|5022944|     F|  Y|     N|       0|202500.0|Commercial associate|   Incomplete higher|           Separated|House / apartment| 38.61917808219178| 3.682191780821918|           1|         0|    1|    1|         Accountants|         1.0|  0.7560975609756099|   0.0|        1.0|     (1,[],[])|        0.0| (1,[0],[1.0])|     1.0|    (1,[],[])|             1.0|      (4,[1],[1.0])|                2.0|         (4,[2],[1.0])|               3.0|        (4,[3],[1.0])|              0.0|       (5,[0],[1.0])|           6.0|   (17,[6],[1.0])|  1.0|(45,[1,4,9,14,15,...|\n",
            "|5023011|     M|  Y|     N|       0|360000.0|             Working|Secondary / secon...|             Married|House / apartment| 31.34246575342466|6.7315068493150685|           1|         0|    0|    0|Private service s...|         2.0|  5.0983606557377055|   1.0|        1.0|     (1,[],[])|        1.0|     (1,[],[])|     1.0|    (1,[],[])|             0.0|      (4,[0],[1.0])|                0.0|         (4,[0],[1.0])|               0.0|        (4,[0],[1.0])|              0.0|       (5,[0],[1.0])|          11.0|  (17,[11],[1.0])|  0.0|(45,[3,7,11,15,31...|\n",
            "|5023675|     F|  N|     Y|       0| 90000.0|             Working|Secondary / secon...|             Married|House / apartment|44.586301369863016| 4.145205479452055|           1|         0|    0|    0|       Cooking staff|         2.0|  0.3548387096774194|   0.0|        0.0| (1,[0],[1.0])|        0.0| (1,[0],[1.0])|     0.0|(1,[0],[1.0])|             0.0|      (4,[0],[1.0])|                0.0|         (4,[0],[1.0])|               0.0|        (4,[0],[1.0])|              0.0|       (5,[0],[1.0])|           8.0|   (17,[8],[1.0])|  1.0|(45,[0,1,2,3,7,11...|\n",
            "|5024412|     M|  Y|     N|       0|270000.0|             Working|    Higher education|             Married|House / apartment| 50.90958904109589| 13.92876712328767|           1|         0|    0|    0|            Managers|         2.0|   4.809523809523809|   1.0|        1.0|     (1,[],[])|        1.0|     (1,[],[])|     1.0|    (1,[],[])|             0.0|      (4,[0],[1.0])|                1.0|         (4,[1],[1.0])|               0.0|        (4,[0],[1.0])|              0.0|       (5,[0],[1.0])|           3.0|   (17,[3],[1.0])|  0.0|(45,[3,8,11,15,23...|\n",
            "|5024771|     F|  Y|     Y|       0|202500.0|             Working|Secondary / secon...|Single / not married|House / apartment|23.473972602739725| 2.926027397260274|           1|         0|    0|    0|         Sales staff|         1.0| 0.14893617021276598|   0.0|        0.0| (1,[0],[1.0])|        0.0| (1,[0],[1.0])|     1.0|    (1,[],[])|             0.0|      (4,[0],[1.0])|                0.0|         (4,[0],[1.0])|               1.0|        (4,[1],[1.0])|              0.0|       (5,[0],[1.0])|           2.0|   (17,[2],[1.0])|  1.0|(45,[0,1,3,7,12,1...|\n",
            "|5024891|     M|  Y|     N|       0| 99000.0|             Working|Secondary / secon...|      Civil marriage|House / apartment| 59.33698630136986| 9.509589041095891|           1|         0|    1|    0|            Laborers|         2.0|  1.9677419354838708|   1.0|        1.0|     (1,[],[])|        1.0|     (1,[],[])|     1.0|    (1,[],[])|             0.0|      (4,[0],[1.0])|                0.0|         (4,[0],[1.0])|               2.0|        (4,[2],[1.0])|              0.0|       (5,[0],[1.0])|           0.0|   (17,[0],[1.0])|  0.0|(45,[3,7,13,15,20...|\n",
            "|5025981|     M|  N|     N|       1|189000.0|             Working|Secondary / secon...|             Married|House / apartment|32.054794520547944| 1.106849315068493|           1|         0|    0|    0|            Managers|         3.0|0.004975124378109453|   0.0|        1.0|     (1,[],[])|        1.0|     (1,[],[])|     0.0|(1,[0],[1.0])|             0.0|      (4,[0],[1.0])|                0.0|         (4,[0],[1.0])|               0.0|        (4,[0],[1.0])|              0.0|       (5,[0],[1.0])|           3.0|   (17,[3],[1.0])|  1.0|(45,[2,3,7,11,15,...|\n",
            "|5026273|     F|  N|     Y|       2|112500.0|             Working|Secondary / secon...|             Married|House / apartment|38.178082191780824|1.5342465753424657|           1|         1|    1|    0|            Laborers|         4.0|0.047619047619047616|   0.0|        0.0| (1,[0],[1.0])|        0.0| (1,[0],[1.0])|     0.0|(1,[0],[1.0])|             0.0|      (4,[0],[1.0])|                0.0|         (4,[0],[1.0])|               0.0|        (4,[0],[1.0])|              0.0|       (5,[0],[1.0])|           0.0|   (17,[0],[1.0])|  1.0|(45,[0,1,2,3,7,11...|\n",
            "|5028624|     F|  Y|     Y|       0|135000.0|Commercial associate|Secondary / secon...|             Married|House / apartment|38.961643835616435|4.2246575342465755|           1|         0|    0|    0|Private service s...|         2.0| 0.01234567901234568|   0.0|        0.0| (1,[0],[1.0])|        0.0| (1,[0],[1.0])|     1.0|    (1,[],[])|             1.0|      (4,[1],[1.0])|                0.0|         (4,[0],[1.0])|               0.0|        (4,[0],[1.0])|              0.0|       (5,[0],[1.0])|          11.0|  (17,[11],[1.0])|  1.0|(45,[0,1,4,7,11,1...|\n",
            "+-------+------+---+------+--------+--------+--------------------+--------------------+--------------------+-----------------+------------------+------------------+------------+----------+-----+-----+--------------------+------------+--------------------+------+-----------+--------------+-----------+--------------+--------+-------------+----------------+-------------------+-------------------+----------------------+------------------+---------------------+-----------------+--------------------+--------------+-----------------+-----+--------------------+\n",
            "only showing top 20 rows\n",
            "\n"
          ]
        }
      ]
    },
    {
      "cell_type": "code",
      "source": [
        "train, test = df_final.randomSplit([0.8, 0.2], seed = 2018)\n",
        "print(\"Training Dataset Count: \" + str(train.count()))\n",
        "print(\"Test Dataset Count: \" + str(test.count()))"
      ],
      "metadata": {
        "colab": {
          "base_uri": "https://localhost:8080/"
        },
        "id": "krU76N415uxr",
        "outputId": "2907ec25-2581-4831-caa1-c08f3e109cb6"
      },
      "execution_count": null,
      "outputs": [
        {
          "output_type": "stream",
          "name": "stdout",
          "text": [
            "Training Dataset Count: 20024\n",
            "Test Dataset Count: 5110\n"
          ]
        }
      ]
    },
    {
      "cell_type": "code",
      "source": [
        "from pyspark.ml.classification import LogisticRegression\n",
        "lr = LogisticRegression(featuresCol = 'features', labelCol = 'label', maxIter=10)\n",
        "lrModel = lr.fit(train)"
      ],
      "metadata": {
        "id": "U4iPdYSJ9C66"
      },
      "execution_count": null,
      "outputs": []
    },
    {
      "cell_type": "code",
      "source": [
        "trainingSummary = lrModel.summary\n",
        "roc = trainingSummary.roc.toPandas()\n",
        "plt.plot(roc['FPR'],roc['TPR'])\n",
        "plt.ylabel('False Positive Rate')\n",
        "plt.xlabel('True Positive Rate')\n",
        "plt.title('ROC Curve')\n",
        "plt.show()\n",
        "print('Training set areaUnderROC: ' + str(trainingSummary.areaUnderROC))"
      ],
      "metadata": {
        "colab": {
          "base_uri": "https://localhost:8080/",
          "height": 313
        },
        "id": "oRUj1VOIvkB_",
        "outputId": "60b0c881-a05d-40f1-e268-c65e0c672462"
      },
      "execution_count": 297,
      "outputs": [
        {
          "output_type": "display_data",
          "data": {
            "image/png": "[encoded data removed]",
            "text/plain": [
              "<Figure size 432x288 with 1 Axes>"
            ]
          },
          "metadata": {
            "needs_background": "light"
          }
        },
        {
          "output_type": "stream",
          "name": "stdout",
          "text": [
            "Training set areaUnderROC: 0.952753640610668\n"
          ]
        }
      ]
    },
    {
      "cell_type": "code",
      "source": [
        "from pyspark.ml.evaluation import BinaryClassificationEvaluator\n",
        "predictions = lrModel.transform(test)\n",
        "evaluator = BinaryClassificationEvaluator()\n",
        "print('Test Area Under ROC', evaluator.evaluate(predictions))"
      ],
      "metadata": {
        "colab": {
          "base_uri": "https://localhost:8080/"
        },
        "id": "a5nvfUM19cMV",
        "outputId": "86786e6c-6e47-4a07-a483-e3af0d6afd59"
      },
      "execution_count": null,
      "outputs": [
        {
          "output_type": "stream",
          "name": "stdout",
          "text": [
            "Test Area Under ROC 0.9542678621202267\n"
          ]
        }
      ]
    },
    {
      "cell_type": "code",
      "source": [
        "predictions_train = lrModel.transform(train)\n",
        "\n",
        "y_true = predictions_train.select(['label']).collect()\n",
        "y_pred = predictions_train.select(['prediction']).collect()\n",
        "\n",
        "from sklearn.metrics import classification_report, confusion_matrix\n",
        "print(classification_report(y_true, y_pred))"
      ],
      "metadata": {
        "id": "sKYeNelJ9454",
        "colab": {
          "base_uri": "https://localhost:8080/"
        },
        "outputId": "a3be1029-e466-4120-df13-8002bbca4a5a"
      },
      "execution_count": 296,
      "outputs": [
        {
          "output_type": "stream",
          "name": "stdout",
          "text": [
            "              precision    recall  f1-score   support\n",
            "\n",
            "         0.0       0.99      0.77      0.86     11152\n",
            "         1.0       0.77      0.99      0.87      8872\n",
            "\n",
            "    accuracy                           0.86     20024\n",
            "   macro avg       0.88      0.88      0.86     20024\n",
            "weighted avg       0.89      0.86      0.86     20024\n",
            "\n"
          ]
        }
      ]
    },
    {
      "cell_type": "code",
      "source": [
        ""
      ],
      "metadata": {
        "id": "7w0RLCU3svFj"
      },
      "execution_count": null,
      "outputs": []
    }
  ]
}